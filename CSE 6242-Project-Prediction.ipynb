{
 "cells": [
  {
   "cell_type": "code",
   "execution_count": 127,
   "id": "c0e742bd",
   "metadata": {},
   "outputs": [],
   "source": [
    "import pyspark\n",
    "from pyspark.sql import SQLContext\n",
    "from pyspark.sql.functions import year,month,hour, when, col, date_format, to_timestamp, round, coalesce\n",
    "from pyspark.sql import SparkSession\n",
    "import pandas as pd\n",
    "from sklearn.linear_model import LinearRegression\n",
    "from sklearn.model_selection import train_test_split\n",
    "from sklearn.metrics import mean_squared_error\n",
    "from sklearn.metrics import mean_absolute_error\n",
    "from sklearn.tree import DecisionTreeRegressor\n",
    "import statsmodels.api as sm\n",
    "from statsmodels.stats.outliers_influence import variance_inflation_factor\n",
    "import numpy as np\n",
    "from sklearn.ensemble import RandomForestRegressor"
   ]
  },
  {
   "cell_type": "code",
   "execution_count": 3,
   "id": "e0dea5a5",
   "metadata": {},
   "outputs": [
    {
     "name": "stderr",
     "output_type": "stream",
     "text": [
      "C:\\Users\\baris\\anaconda3\\lib\\site-packages\\pyspark\\sql\\context.py:112: FutureWarning: Deprecated in 3.0.0. Use SparkSession.builder.getOrCreate() instead.\n",
      "  warnings.warn(\n"
     ]
    }
   ],
   "source": [
    "#sc = pyspark.SparkSession('local', 'test')\n",
    "sc = pyspark.SparkContext(appName=\"HW3-Q1\")\n",
    "sqlContext = SQLContext(sc)"
   ]
  },
  {
   "cell_type": "code",
   "execution_count": 4,
   "id": "81304cba",
   "metadata": {},
   "outputs": [],
   "source": [
    "df = sqlContext.read.option(\"header\",True).option(\"inferSchema\",True) \\\n",
    "     .csv(\"C:\\\\Users\\\\baris\\\\OneDrive\\\\desktop\\\\CSE 6242 Project\\\\pollution_us_2000_2016.csv\")"
   ]
  },
  {
   "cell_type": "code",
   "execution_count": 5,
   "id": "77f8013f",
   "metadata": {},
   "outputs": [],
   "source": [
    "df=df.withColumn(\"year\",year(\"Date Local\"))"
   ]
  },
  {
   "cell_type": "code",
   "execution_count": 6,
   "id": "b18b7d93",
   "metadata": {},
   "outputs": [],
   "source": [
    "df1=df.select(\"State\",\"County\",\"year\",\"NO2 Mean\",\"CO Mean\",'O3 Mean','SO2 Mean')\\\n",
    ".groupBy(\"State\",\"County\",\"year\").avg(\"NO2 Mean\",\"CO Mean\",'O3 Mean','SO2 Mean')"
   ]
  },
  {
   "cell_type": "code",
   "execution_count": 7,
   "id": "f8f781e5",
   "metadata": {},
   "outputs": [],
   "source": [
    "df1p=df1.toPandas()"
   ]
  },
  {
   "cell_type": "code",
   "execution_count": 12,
   "id": "ab6d2191",
   "metadata": {},
   "outputs": [],
   "source": [
    "df2p=pd.read_csv(\"C:\\\\Users\\\\baris\\\\OneDrive\\\\desktop\\\\CSE 6242 Project\\death_data.csv\")"
   ]
  },
  {
   "cell_type": "code",
   "execution_count": 13,
   "id": "2045dfbc",
   "metadata": {},
   "outputs": [],
   "source": [
    "us_state_abbrev={'AK':'Alaska','AL':'Alabama','AR':'Arkansas','AZ':'Arizona','CA': 'California','CO':'Colorado',\\\n",
    "                                 'CT':'Connecticut','DE':'Delaware','FL':'Florida','GA':'Georgia','HI':'Hawaii','IA':'Iowa',\\\n",
    "                                 'ID':'Idaho','IL': 'Illinois','IN':'Indiana','KS':'Kansas','KY':'Kentucky','LA':'Louisiana', \\\n",
    "                                'MA':'Massachusetts','MD':'Maryland','ME':'Maine','MI':'Michigan','MN':'Minnesota','MO':'Missouri', \\\n",
    "                                'NC':'North Carolina','ND':'North Dakota','NH':'New Hampshire','NJ':'New Jersey','NM':'New Mexico', \\\n",
    "                                'NV':'Nevada','NY':'New York','OH':'Ohio','OK':'Oklahoma','OR':'Oregon','PA':'Pennsylvania' ,\\\n",
    "                                'RI':'Rhode Island','SC':'South Carolina','SD':'South Dakota','TN':'Tennessee','TX':'Texas', \\\n",
    "                                'UT':'Utah','VA':'Virginia','WA':'Washington','WI':'Wisconsin','WY':'Wyoming'}"
   ]
  },
  {
   "cell_type": "code",
   "execution_count": 14,
   "id": "3882c91a",
   "metadata": {},
   "outputs": [],
   "source": [
    "df2p['State']=df2p['State'].map(us_state_abbrev)"
   ]
  },
  {
   "cell_type": "code",
   "execution_count": 15,
   "id": "c8a8fc8b",
   "metadata": {},
   "outputs": [],
   "source": [
    "df_all=df1p.sort_values(by=['year'])"
   ]
  },
  {
   "cell_type": "code",
   "execution_count": 16,
   "id": "74475ca3",
   "metadata": {},
   "outputs": [],
   "source": [
    "df3p=pd.merge(df_all,df2p,how=\"inner\", left_on=['State','County','year'], right_on=['State','County_Name','Year'])"
   ]
  },
  {
   "cell_type": "code",
   "execution_count": 17,
   "id": "fdd5d585",
   "metadata": {},
   "outputs": [],
   "source": [
    "df3p=df3p.T.drop_duplicates().T"
   ]
  },
  {
   "cell_type": "code",
   "execution_count": 27,
   "id": "912f4cb3",
   "metadata": {},
   "outputs": [],
   "source": [
    "df4p=pd.read_csv(\"C:\\\\Users\\\\baris\\\\OneDrive\\\\desktop\\\\CSE 6242 Project\\\\manufaturing_totals_2000_to_2016_restructure.csv\")"
   ]
  },
  {
   "cell_type": "code",
   "execution_count": 28,
   "id": "c22c0c43",
   "metadata": {},
   "outputs": [],
   "source": [
    "df5p=df4p.dropna()"
   ]
  },
  {
   "cell_type": "code",
   "execution_count": 29,
   "id": "9398310b",
   "metadata": {},
   "outputs": [
    {
     "data": {
      "text/html": [
       "<div>\n",
       "<style scoped>\n",
       "    .dataframe tbody tr th:only-of-type {\n",
       "        vertical-align: middle;\n",
       "    }\n",
       "\n",
       "    .dataframe tbody tr th {\n",
       "        vertical-align: top;\n",
       "    }\n",
       "\n",
       "    .dataframe thead th {\n",
       "        text-align: right;\n",
       "    }\n",
       "</style>\n",
       "<table border=\"1\" class=\"dataframe\">\n",
       "  <thead>\n",
       "    <tr style=\"text-align: right;\">\n",
       "      <th></th>\n",
       "      <th>county</th>\n",
       "      <th>state</th>\n",
       "      <th>year</th>\n",
       "      <th>fat_amount</th>\n",
       "    </tr>\n",
       "  </thead>\n",
       "  <tbody>\n",
       "    <tr>\n",
       "      <th>0</th>\n",
       "      <td>Los Angeles</td>\n",
       "      <td>CA</td>\n",
       "      <td>2000</td>\n",
       "      <td>35154</td>\n",
       "    </tr>\n",
       "    <tr>\n",
       "      <th>1</th>\n",
       "      <td>Cook</td>\n",
       "      <td>IL</td>\n",
       "      <td>2000</td>\n",
       "      <td>14998</td>\n",
       "    </tr>\n",
       "    <tr>\n",
       "      <th>2</th>\n",
       "      <td>Orange</td>\n",
       "      <td>CA</td>\n",
       "      <td>2000</td>\n",
       "      <td>11332</td>\n",
       "    </tr>\n",
       "    <tr>\n",
       "      <th>3</th>\n",
       "      <td>Harris</td>\n",
       "      <td>TX</td>\n",
       "      <td>2000</td>\n",
       "      <td>8502</td>\n",
       "    </tr>\n",
       "    <tr>\n",
       "      <th>4</th>\n",
       "      <td>New York</td>\n",
       "      <td>NY</td>\n",
       "      <td>2000</td>\n",
       "      <td>8382</td>\n",
       "    </tr>\n",
       "    <tr>\n",
       "      <th>...</th>\n",
       "      <td>...</td>\n",
       "      <td>...</td>\n",
       "      <td>...</td>\n",
       "      <td>...</td>\n",
       "    </tr>\n",
       "    <tr>\n",
       "      <th>53222</th>\n",
       "      <td>Mcmullen</td>\n",
       "      <td>TX</td>\n",
       "      <td>2016</td>\n",
       "      <td>5</td>\n",
       "    </tr>\n",
       "    <tr>\n",
       "      <th>53223</th>\n",
       "      <td>Leslie</td>\n",
       "      <td>KY</td>\n",
       "      <td>2016</td>\n",
       "      <td>5</td>\n",
       "    </tr>\n",
       "    <tr>\n",
       "      <th>53224</th>\n",
       "      <td>Lyman</td>\n",
       "      <td>SD</td>\n",
       "      <td>2016</td>\n",
       "      <td>5</td>\n",
       "    </tr>\n",
       "    <tr>\n",
       "      <th>53225</th>\n",
       "      <td>Loup</td>\n",
       "      <td>NE</td>\n",
       "      <td>2016</td>\n",
       "      <td>5</td>\n",
       "    </tr>\n",
       "    <tr>\n",
       "      <th>53226</th>\n",
       "      <td>Cleburne</td>\n",
       "      <td>GA</td>\n",
       "      <td>2016</td>\n",
       "      <td>5</td>\n",
       "    </tr>\n",
       "  </tbody>\n",
       "</table>\n",
       "<p>53227 rows × 4 columns</p>\n",
       "</div>"
      ],
      "text/plain": [
       "            county state  year  fat_amount\n",
       "0      Los Angeles    CA  2000       35154\n",
       "1             Cook    IL  2000       14998\n",
       "2           Orange    CA  2000       11332\n",
       "3           Harris    TX  2000        8502\n",
       "4         New York    NY  2000        8382\n",
       "...            ...   ...   ...         ...\n",
       "53222     Mcmullen    TX  2016           5\n",
       "53223       Leslie    KY  2016           5\n",
       "53224        Lyman    SD  2016           5\n",
       "53225         Loup    NE  2016           5\n",
       "53226     Cleburne    GA  2016           5\n",
       "\n",
       "[53227 rows x 4 columns]"
      ]
     },
     "execution_count": 29,
     "metadata": {},
     "output_type": "execute_result"
    }
   ],
   "source": [
    "#df5p=df4p.melt(id_vars=[\"county\", \"state\"], \n",
    "#        var_name=\"year\", \n",
    "#        value_name=\"number of factories\")\n",
    "df5p"
   ]
  },
  {
   "cell_type": "code",
   "execution_count": 30,
   "id": "f4ac4abc",
   "metadata": {},
   "outputs": [],
   "source": [
    "df5p['state']=df5p['state'].map(us_state_abbrev)"
   ]
  },
  {
   "cell_type": "code",
   "execution_count": 31,
   "id": "532b3bea",
   "metadata": {},
   "outputs": [],
   "source": [
    "def swap_columns(df, col1, col2):\n",
    "    col_list = list(df.columns)\n",
    "    x, y = col_list.index(col1), col_list.index(col2)\n",
    "    col_list[y], col_list[x] = col_list[x], col_list[y]\n",
    "    df = df[col_list]\n",
    "    return df"
   ]
  },
  {
   "cell_type": "code",
   "execution_count": 32,
   "id": "3a527f30",
   "metadata": {},
   "outputs": [],
   "source": [
    "df5p = swap_columns(df5p, 'county', 'state')\n",
    "df5p=df5p.rename(columns={\"state\": \"State\", \"county\": \"County\", \"fat_amount\": \"num_factory\"})"
   ]
  },
  {
   "cell_type": "code",
   "execution_count": 33,
   "id": "2882e9f8",
   "metadata": {},
   "outputs": [
    {
     "data": {
      "text/html": [
       "<div>\n",
       "<style scoped>\n",
       "    .dataframe tbody tr th:only-of-type {\n",
       "        vertical-align: middle;\n",
       "    }\n",
       "\n",
       "    .dataframe tbody tr th {\n",
       "        vertical-align: top;\n",
       "    }\n",
       "\n",
       "    .dataframe thead th {\n",
       "        text-align: right;\n",
       "    }\n",
       "</style>\n",
       "<table border=\"1\" class=\"dataframe\">\n",
       "  <thead>\n",
       "    <tr style=\"text-align: right;\">\n",
       "      <th></th>\n",
       "      <th>State</th>\n",
       "      <th>County</th>\n",
       "      <th>year</th>\n",
       "      <th>num_factory</th>\n",
       "    </tr>\n",
       "  </thead>\n",
       "  <tbody>\n",
       "    <tr>\n",
       "      <th>0</th>\n",
       "      <td>California</td>\n",
       "      <td>Los Angeles</td>\n",
       "      <td>2000</td>\n",
       "      <td>35154</td>\n",
       "    </tr>\n",
       "    <tr>\n",
       "      <th>1</th>\n",
       "      <td>Illinois</td>\n",
       "      <td>Cook</td>\n",
       "      <td>2000</td>\n",
       "      <td>14998</td>\n",
       "    </tr>\n",
       "    <tr>\n",
       "      <th>2</th>\n",
       "      <td>California</td>\n",
       "      <td>Orange</td>\n",
       "      <td>2000</td>\n",
       "      <td>11332</td>\n",
       "    </tr>\n",
       "    <tr>\n",
       "      <th>3</th>\n",
       "      <td>Texas</td>\n",
       "      <td>Harris</td>\n",
       "      <td>2000</td>\n",
       "      <td>8502</td>\n",
       "    </tr>\n",
       "    <tr>\n",
       "      <th>4</th>\n",
       "      <td>New York</td>\n",
       "      <td>New York</td>\n",
       "      <td>2000</td>\n",
       "      <td>8382</td>\n",
       "    </tr>\n",
       "    <tr>\n",
       "      <th>...</th>\n",
       "      <td>...</td>\n",
       "      <td>...</td>\n",
       "      <td>...</td>\n",
       "      <td>...</td>\n",
       "    </tr>\n",
       "    <tr>\n",
       "      <th>53222</th>\n",
       "      <td>Texas</td>\n",
       "      <td>Mcmullen</td>\n",
       "      <td>2016</td>\n",
       "      <td>5</td>\n",
       "    </tr>\n",
       "    <tr>\n",
       "      <th>53223</th>\n",
       "      <td>Kentucky</td>\n",
       "      <td>Leslie</td>\n",
       "      <td>2016</td>\n",
       "      <td>5</td>\n",
       "    </tr>\n",
       "    <tr>\n",
       "      <th>53224</th>\n",
       "      <td>South Dakota</td>\n",
       "      <td>Lyman</td>\n",
       "      <td>2016</td>\n",
       "      <td>5</td>\n",
       "    </tr>\n",
       "    <tr>\n",
       "      <th>53225</th>\n",
       "      <td>NaN</td>\n",
       "      <td>Loup</td>\n",
       "      <td>2016</td>\n",
       "      <td>5</td>\n",
       "    </tr>\n",
       "    <tr>\n",
       "      <th>53226</th>\n",
       "      <td>Georgia</td>\n",
       "      <td>Cleburne</td>\n",
       "      <td>2016</td>\n",
       "      <td>5</td>\n",
       "    </tr>\n",
       "  </tbody>\n",
       "</table>\n",
       "<p>53227 rows × 4 columns</p>\n",
       "</div>"
      ],
      "text/plain": [
       "              State       County  year  num_factory\n",
       "0        California  Los Angeles  2000        35154\n",
       "1          Illinois         Cook  2000        14998\n",
       "2        California       Orange  2000        11332\n",
       "3             Texas       Harris  2000         8502\n",
       "4          New York     New York  2000         8382\n",
       "...             ...          ...   ...          ...\n",
       "53222         Texas     Mcmullen  2016            5\n",
       "53223      Kentucky       Leslie  2016            5\n",
       "53224  South Dakota        Lyman  2016            5\n",
       "53225           NaN         Loup  2016            5\n",
       "53226       Georgia     Cleburne  2016            5\n",
       "\n",
       "[53227 rows x 4 columns]"
      ]
     },
     "execution_count": 33,
     "metadata": {},
     "output_type": "execute_result"
    }
   ],
   "source": [
    "df5p"
   ]
  },
  {
   "cell_type": "code",
   "execution_count": 45,
   "id": "4f8166c3",
   "metadata": {},
   "outputs": [],
   "source": [
    "df6p=pd.merge(df3p,df5p,how=\"inner\", on=['State','County','year'])"
   ]
  },
  {
   "cell_type": "code",
   "execution_count": 46,
   "id": "958286ce",
   "metadata": {},
   "outputs": [
    {
     "data": {
      "text/html": [
       "<div>\n",
       "<style scoped>\n",
       "    .dataframe tbody tr th:only-of-type {\n",
       "        vertical-align: middle;\n",
       "    }\n",
       "\n",
       "    .dataframe tbody tr th {\n",
       "        vertical-align: top;\n",
       "    }\n",
       "\n",
       "    .dataframe thead th {\n",
       "        text-align: right;\n",
       "    }\n",
       "</style>\n",
       "<table border=\"1\" class=\"dataframe\">\n",
       "  <thead>\n",
       "    <tr style=\"text-align: right;\">\n",
       "      <th></th>\n",
       "      <th>State</th>\n",
       "      <th>County</th>\n",
       "      <th>year</th>\n",
       "      <th>avg(NO2 Mean)</th>\n",
       "      <th>avg(CO Mean)</th>\n",
       "      <th>avg(O3 Mean)</th>\n",
       "      <th>avg(SO2 Mean)</th>\n",
       "      <th>Population</th>\n",
       "      <th>Area</th>\n",
       "      <th>Deaths</th>\n",
       "      <th>...</th>\n",
       "      <th>canc_death</th>\n",
       "      <th>resp_circ_death</th>\n",
       "      <th>Crude Rate</th>\n",
       "      <th>pollution_Crude_Rate</th>\n",
       "      <th>resp_Crude_Rate</th>\n",
       "      <th>circ_Crude_Rate</th>\n",
       "      <th>canc_Crude_Rate</th>\n",
       "      <th>resp_circ_Crude_Rate</th>\n",
       "      <th>population_density</th>\n",
       "      <th>num_factory</th>\n",
       "    </tr>\n",
       "  </thead>\n",
       "  <tbody>\n",
       "    <tr>\n",
       "      <th>0</th>\n",
       "      <td>North Carolina</td>\n",
       "      <td>Mecklenburg</td>\n",
       "      <td>2000</td>\n",
       "      <td>15.374838</td>\n",
       "      <td>0.623766</td>\n",
       "      <td>0.03522</td>\n",
       "      <td>3.772487</td>\n",
       "      <td>695454</td>\n",
       "      <td>549.74</td>\n",
       "      <td>4505</td>\n",
       "      <td>...</td>\n",
       "      <td>1020</td>\n",
       "      <td>1981</td>\n",
       "      <td>647.778286</td>\n",
       "      <td>431.516678</td>\n",
       "      <td>56.509848</td>\n",
       "      <td>228.340048</td>\n",
       "      <td>146.666782</td>\n",
       "      <td>284.849897</td>\n",
       "      <td>1265.059846</td>\n",
       "      <td>1960</td>\n",
       "    </tr>\n",
       "    <tr>\n",
       "      <th>1</th>\n",
       "      <td>Kansas</td>\n",
       "      <td>Wyandotte</td>\n",
       "      <td>2000</td>\n",
       "      <td>16.518028</td>\n",
       "      <td>0.984364</td>\n",
       "      <td>0.025053</td>\n",
       "      <td>1.378182</td>\n",
       "      <td>157882</td>\n",
       "      <td>155.7</td>\n",
       "      <td>1314</td>\n",
       "      <td>...</td>\n",
       "      <td>288</td>\n",
       "      <td>585</td>\n",
       "      <td>832.267136</td>\n",
       "      <td>552.944604</td>\n",
       "      <td>97.541202</td>\n",
       "      <td>272.988688</td>\n",
       "      <td>182.414715</td>\n",
       "      <td>370.529889</td>\n",
       "      <td>1014.01413</td>\n",
       "      <td>494</td>\n",
       "    </tr>\n",
       "    <tr>\n",
       "      <th>2</th>\n",
       "      <td>Oklahoma</td>\n",
       "      <td>Cherokee</td>\n",
       "      <td>2000</td>\n",
       "      <td>3.67854</td>\n",
       "      <td>0.041166</td>\n",
       "      <td>0.034708</td>\n",
       "      <td>0.198155</td>\n",
       "      <td>42521</td>\n",
       "      <td>776.45</td>\n",
       "      <td>228</td>\n",
       "      <td>...</td>\n",
       "      <td>37</td>\n",
       "      <td>130</td>\n",
       "      <td>536.20564</td>\n",
       "      <td>392.747113</td>\n",
       "      <td>35.276687</td>\n",
       "      <td>270.454599</td>\n",
       "      <td>87.015827</td>\n",
       "      <td>305.731286</td>\n",
       "      <td>54.763346</td>\n",
       "      <td>38</td>\n",
       "    </tr>\n",
       "    <tr>\n",
       "      <th>3</th>\n",
       "      <td>Michigan</td>\n",
       "      <td>Wayne</td>\n",
       "      <td>2000</td>\n",
       "      <td>22.640061</td>\n",
       "      <td>0.277001</td>\n",
       "      <td>0.02335</td>\n",
       "      <td>5.415251</td>\n",
       "      <td>2061162</td>\n",
       "      <td>672.26</td>\n",
       "      <td>20218</td>\n",
       "      <td>...</td>\n",
       "      <td>4435</td>\n",
       "      <td>10044</td>\n",
       "      <td>980.903005</td>\n",
       "      <td>702.467831</td>\n",
       "      <td>74.957718</td>\n",
       "      <td>412.340224</td>\n",
       "      <td>215.16989</td>\n",
       "      <td>487.297942</td>\n",
       "      <td>3066.0191</td>\n",
       "      <td>4336</td>\n",
       "    </tr>\n",
       "    <tr>\n",
       "      <th>4</th>\n",
       "      <td>Pennsylvania</td>\n",
       "      <td>Lancaster</td>\n",
       "      <td>2000</td>\n",
       "      <td>11.187757</td>\n",
       "      <td>0.23918</td>\n",
       "      <td>0.026628</td>\n",
       "      <td>2.762724</td>\n",
       "      <td>470658</td>\n",
       "      <td>983.9</td>\n",
       "      <td>4137</td>\n",
       "      <td>...</td>\n",
       "      <td>952</td>\n",
       "      <td>2082</td>\n",
       "      <td>878.982191</td>\n",
       "      <td>644.629434</td>\n",
       "      <td>81.375436</td>\n",
       "      <td>360.983984</td>\n",
       "      <td>202.270013</td>\n",
       "      <td>442.35942</td>\n",
       "      <td>478.359589</td>\n",
       "      <td>1898</td>\n",
       "    </tr>\n",
       "    <tr>\n",
       "      <th>...</th>\n",
       "      <td>...</td>\n",
       "      <td>...</td>\n",
       "      <td>...</td>\n",
       "      <td>...</td>\n",
       "      <td>...</td>\n",
       "      <td>...</td>\n",
       "      <td>...</td>\n",
       "      <td>...</td>\n",
       "      <td>...</td>\n",
       "      <td>...</td>\n",
       "      <td>...</td>\n",
       "      <td>...</td>\n",
       "      <td>...</td>\n",
       "      <td>...</td>\n",
       "      <td>...</td>\n",
       "      <td>...</td>\n",
       "      <td>...</td>\n",
       "      <td>...</td>\n",
       "      <td>...</td>\n",
       "      <td>...</td>\n",
       "      <td>...</td>\n",
       "    </tr>\n",
       "    <tr>\n",
       "      <th>1089</th>\n",
       "      <td>Alabama</td>\n",
       "      <td>Jefferson</td>\n",
       "      <td>2016</td>\n",
       "      <td>9.524873</td>\n",
       "      <td>0.209514</td>\n",
       "      <td>0.028348</td>\n",
       "      <td>0.835118</td>\n",
       "      <td>659521</td>\n",
       "      <td>1123.87</td>\n",
       "      <td>7014</td>\n",
       "      <td>...</td>\n",
       "      <td>1444</td>\n",
       "      <td>2610</td>\n",
       "      <td>1063.499115</td>\n",
       "      <td>614.688539</td>\n",
       "      <td>92.946244</td>\n",
       "      <td>302.795514</td>\n",
       "      <td>218.946781</td>\n",
       "      <td>395.741758</td>\n",
       "      <td>586.830327</td>\n",
       "      <td>2810</td>\n",
       "    </tr>\n",
       "    <tr>\n",
       "      <th>1090</th>\n",
       "      <td>New York</td>\n",
       "      <td>Queens</td>\n",
       "      <td>2016</td>\n",
       "      <td>17.874275</td>\n",
       "      <td>0.257096</td>\n",
       "      <td>0.02405</td>\n",
       "      <td>0.836166</td>\n",
       "      <td>2333054</td>\n",
       "      <td>177.35</td>\n",
       "      <td>14393</td>\n",
       "      <td>...</td>\n",
       "      <td>3537</td>\n",
       "      <td>7115</td>\n",
       "      <td>616.916711</td>\n",
       "      <td>456.568944</td>\n",
       "      <td>51.991938</td>\n",
       "      <td>252.973142</td>\n",
       "      <td>151.603863</td>\n",
       "      <td>304.96508</td>\n",
       "      <td>13155.083169</td>\n",
       "      <td>6195</td>\n",
       "    </tr>\n",
       "    <tr>\n",
       "      <th>1091</th>\n",
       "      <td>California</td>\n",
       "      <td>Solano</td>\n",
       "      <td>2016</td>\n",
       "      <td>8.40495</td>\n",
       "      <td>0.42257</td>\n",
       "      <td>0.023891</td>\n",
       "      <td>0.611533</td>\n",
       "      <td>440207</td>\n",
       "      <td>906.85</td>\n",
       "      <td>3148</td>\n",
       "      <td>...</td>\n",
       "      <td>848</td>\n",
       "      <td>1193</td>\n",
       "      <td>715.118115</td>\n",
       "      <td>463.645512</td>\n",
       "      <td>66.786762</td>\n",
       "      <td>204.222105</td>\n",
       "      <td>192.636646</td>\n",
       "      <td>271.008866</td>\n",
       "      <td>485.424271</td>\n",
       "      <td>1240</td>\n",
       "    </tr>\n",
       "    <tr>\n",
       "      <th>1092</th>\n",
       "      <td>Colorado</td>\n",
       "      <td>Denver</td>\n",
       "      <td>2016</td>\n",
       "      <td>25.17045</td>\n",
       "      <td>0.437617</td>\n",
       "      <td>0.02121</td>\n",
       "      <td>1.140453</td>\n",
       "      <td>693060</td>\n",
       "      <td>154.88</td>\n",
       "      <td>4505</td>\n",
       "      <td>...</td>\n",
       "      <td>1010</td>\n",
       "      <td>1637</td>\n",
       "      <td>650.015872</td>\n",
       "      <td>381.929414</td>\n",
       "      <td>64.929443</td>\n",
       "      <td>171.269443</td>\n",
       "      <td>145.730528</td>\n",
       "      <td>236.198886</td>\n",
       "      <td>4474.819215</td>\n",
       "      <td>4185</td>\n",
       "    </tr>\n",
       "    <tr>\n",
       "      <th>1093</th>\n",
       "      <td>Pennsylvania</td>\n",
       "      <td>Adams</td>\n",
       "      <td>2016</td>\n",
       "      <td>2.225029</td>\n",
       "      <td>0.022525</td>\n",
       "      <td>0.033816</td>\n",
       "      <td>0.224754</td>\n",
       "      <td>102180</td>\n",
       "      <td>521.56</td>\n",
       "      <td>878</td>\n",
       "      <td>...</td>\n",
       "      <td>141</td>\n",
       "      <td>384</td>\n",
       "      <td>859.267959</td>\n",
       "      <td>513.799178</td>\n",
       "      <td>93.95185</td>\n",
       "      <td>281.855549</td>\n",
       "      <td>137.991779</td>\n",
       "      <td>375.807399</td>\n",
       "      <td>195.912263</td>\n",
       "      <td>460</td>\n",
       "    </tr>\n",
       "  </tbody>\n",
       "</table>\n",
       "<p>1094 rows × 23 columns</p>\n",
       "</div>"
      ],
      "text/plain": [
       "               State       County  year avg(NO2 Mean) avg(CO Mean)  \\\n",
       "0     North Carolina  Mecklenburg  2000     15.374838     0.623766   \n",
       "1             Kansas    Wyandotte  2000     16.518028     0.984364   \n",
       "2           Oklahoma     Cherokee  2000       3.67854     0.041166   \n",
       "3           Michigan        Wayne  2000     22.640061     0.277001   \n",
       "4       Pennsylvania    Lancaster  2000     11.187757      0.23918   \n",
       "...              ...          ...   ...           ...          ...   \n",
       "1089         Alabama    Jefferson  2016      9.524873     0.209514   \n",
       "1090        New York       Queens  2016     17.874275     0.257096   \n",
       "1091      California       Solano  2016       8.40495      0.42257   \n",
       "1092        Colorado       Denver  2016      25.17045     0.437617   \n",
       "1093    Pennsylvania        Adams  2016      2.225029     0.022525   \n",
       "\n",
       "     avg(O3 Mean) avg(SO2 Mean) Population     Area Deaths  ... canc_death  \\\n",
       "0         0.03522      3.772487     695454   549.74   4505  ...       1020   \n",
       "1        0.025053      1.378182     157882    155.7   1314  ...        288   \n",
       "2        0.034708      0.198155      42521   776.45    228  ...         37   \n",
       "3         0.02335      5.415251    2061162   672.26  20218  ...       4435   \n",
       "4        0.026628      2.762724     470658    983.9   4137  ...        952   \n",
       "...           ...           ...        ...      ...    ...  ...        ...   \n",
       "1089     0.028348      0.835118     659521  1123.87   7014  ...       1444   \n",
       "1090      0.02405      0.836166    2333054   177.35  14393  ...       3537   \n",
       "1091     0.023891      0.611533     440207   906.85   3148  ...        848   \n",
       "1092      0.02121      1.140453     693060   154.88   4505  ...       1010   \n",
       "1093     0.033816      0.224754     102180   521.56    878  ...        141   \n",
       "\n",
       "     resp_circ_death   Crude Rate pollution_Crude_Rate resp_Crude_Rate  \\\n",
       "0               1981   647.778286           431.516678       56.509848   \n",
       "1                585   832.267136           552.944604       97.541202   \n",
       "2                130    536.20564           392.747113       35.276687   \n",
       "3              10044   980.903005           702.467831       74.957718   \n",
       "4               2082   878.982191           644.629434       81.375436   \n",
       "...              ...          ...                  ...             ...   \n",
       "1089            2610  1063.499115           614.688539       92.946244   \n",
       "1090            7115   616.916711           456.568944       51.991938   \n",
       "1091            1193   715.118115           463.645512       66.786762   \n",
       "1092            1637   650.015872           381.929414       64.929443   \n",
       "1093             384   859.267959           513.799178        93.95185   \n",
       "\n",
       "     circ_Crude_Rate canc_Crude_Rate resp_circ_Crude_Rate population_density  \\\n",
       "0         228.340048      146.666782           284.849897        1265.059846   \n",
       "1         272.988688      182.414715           370.529889         1014.01413   \n",
       "2         270.454599       87.015827           305.731286          54.763346   \n",
       "3         412.340224       215.16989           487.297942          3066.0191   \n",
       "4         360.983984      202.270013            442.35942         478.359589   \n",
       "...              ...             ...                  ...                ...   \n",
       "1089      302.795514      218.946781           395.741758         586.830327   \n",
       "1090      252.973142      151.603863            304.96508       13155.083169   \n",
       "1091      204.222105      192.636646           271.008866         485.424271   \n",
       "1092      171.269443      145.730528           236.198886        4474.819215   \n",
       "1093      281.855549      137.991779           375.807399         195.912263   \n",
       "\n",
       "     num_factory  \n",
       "0           1960  \n",
       "1            494  \n",
       "2             38  \n",
       "3           4336  \n",
       "4           1898  \n",
       "...          ...  \n",
       "1089        2810  \n",
       "1090        6195  \n",
       "1091        1240  \n",
       "1092        4185  \n",
       "1093         460  \n",
       "\n",
       "[1094 rows x 23 columns]"
      ]
     },
     "execution_count": 46,
     "metadata": {},
     "output_type": "execute_result"
    }
   ],
   "source": [
    "df6p"
   ]
  },
  {
   "cell_type": "code",
   "execution_count": 47,
   "id": "44cfe608",
   "metadata": {},
   "outputs": [],
   "source": [
    "df7p=df6p[['avg(NO2 Mean)','avg(CO Mean)','avg(O3 Mean)','avg(SO2 Mean)', 'population_density','num_factory']]"
   ]
  },
  {
   "cell_type": "code",
   "execution_count": 40,
   "id": "2d5a688a",
   "metadata": {},
   "outputs": [],
   "source": [
    "cars=pd.read_csv(\"C:\\\\Users\\\\baris\\\\OneDrive\\\\desktop\\\\CSE 6242 Project\\\\CA_county_cars.csv\")"
   ]
  },
  {
   "cell_type": "code",
   "execution_count": 48,
   "id": "3176f509",
   "metadata": {},
   "outputs": [],
   "source": [
    "df7p_cars=pd.merge(df6p,cars,how=\"inner\", on=['State','County','year'])"
   ]
  },
  {
   "cell_type": "code",
   "execution_count": 51,
   "id": "ea40fa9a",
   "metadata": {},
   "outputs": [],
   "source": [
    "df8p=df7p_cars[['avg(NO2 Mean)','avg(CO Mean)','avg(O3 Mean)','avg(SO2 Mean)', 'population_density','num_factory','Autos','Trucks','Total Vehicles']]"
   ]
  },
  {
   "cell_type": "code",
   "execution_count": 65,
   "id": "7801b8bb",
   "metadata": {},
   "outputs": [],
   "source": [
    "df8p = df8p.astype(float)\n",
    "df7p = df7p.astype(float)"
   ]
  },
  {
   "cell_type": "code",
   "execution_count": 66,
   "id": "dd8de80b",
   "metadata": {},
   "outputs": [
    {
     "data": {
      "text/html": [
       "<div>\n",
       "<style scoped>\n",
       "    .dataframe tbody tr th:only-of-type {\n",
       "        vertical-align: middle;\n",
       "    }\n",
       "\n",
       "    .dataframe tbody tr th {\n",
       "        vertical-align: top;\n",
       "    }\n",
       "\n",
       "    .dataframe thead th {\n",
       "        text-align: right;\n",
       "    }\n",
       "</style>\n",
       "<table border=\"1\" class=\"dataframe\">\n",
       "  <thead>\n",
       "    <tr style=\"text-align: right;\">\n",
       "      <th></th>\n",
       "      <th>avg(NO2 Mean)</th>\n",
       "      <th>avg(CO Mean)</th>\n",
       "      <th>avg(O3 Mean)</th>\n",
       "      <th>avg(SO2 Mean)</th>\n",
       "      <th>population_density</th>\n",
       "      <th>num_factory</th>\n",
       "    </tr>\n",
       "  </thead>\n",
       "  <tbody>\n",
       "    <tr>\n",
       "      <th>avg(NO2 Mean)</th>\n",
       "      <td>1.000000</td>\n",
       "      <td>0.587601</td>\n",
       "      <td>-0.525557</td>\n",
       "      <td>0.416436</td>\n",
       "      <td>0.437043</td>\n",
       "      <td>0.294672</td>\n",
       "    </tr>\n",
       "    <tr>\n",
       "      <th>avg(CO Mean)</th>\n",
       "      <td>0.587601</td>\n",
       "      <td>1.000000</td>\n",
       "      <td>-0.392298</td>\n",
       "      <td>0.149995</td>\n",
       "      <td>0.186131</td>\n",
       "      <td>0.179794</td>\n",
       "    </tr>\n",
       "    <tr>\n",
       "      <th>avg(O3 Mean)</th>\n",
       "      <td>-0.525557</td>\n",
       "      <td>-0.392298</td>\n",
       "      <td>1.000000</td>\n",
       "      <td>-0.170427</td>\n",
       "      <td>-0.336845</td>\n",
       "      <td>-0.160823</td>\n",
       "    </tr>\n",
       "    <tr>\n",
       "      <th>avg(SO2 Mean)</th>\n",
       "      <td>0.416436</td>\n",
       "      <td>0.149995</td>\n",
       "      <td>-0.170427</td>\n",
       "      <td>1.000000</td>\n",
       "      <td>0.275931</td>\n",
       "      <td>-0.114577</td>\n",
       "    </tr>\n",
       "    <tr>\n",
       "      <th>population_density</th>\n",
       "      <td>0.437043</td>\n",
       "      <td>0.186131</td>\n",
       "      <td>-0.336845</td>\n",
       "      <td>0.275931</td>\n",
       "      <td>1.000000</td>\n",
       "      <td>0.047009</td>\n",
       "    </tr>\n",
       "    <tr>\n",
       "      <th>num_factory</th>\n",
       "      <td>0.294672</td>\n",
       "      <td>0.179794</td>\n",
       "      <td>-0.160823</td>\n",
       "      <td>-0.114577</td>\n",
       "      <td>0.047009</td>\n",
       "      <td>1.000000</td>\n",
       "    </tr>\n",
       "  </tbody>\n",
       "</table>\n",
       "</div>"
      ],
      "text/plain": [
       "                    avg(NO2 Mean)  avg(CO Mean)  avg(O3 Mean)  avg(SO2 Mean)  \\\n",
       "avg(NO2 Mean)            1.000000      0.587601     -0.525557       0.416436   \n",
       "avg(CO Mean)             0.587601      1.000000     -0.392298       0.149995   \n",
       "avg(O3 Mean)            -0.525557     -0.392298      1.000000      -0.170427   \n",
       "avg(SO2 Mean)            0.416436      0.149995     -0.170427       1.000000   \n",
       "population_density       0.437043      0.186131     -0.336845       0.275931   \n",
       "num_factory              0.294672      0.179794     -0.160823      -0.114577   \n",
       "\n",
       "                    population_density  num_factory  \n",
       "avg(NO2 Mean)                 0.437043     0.294672  \n",
       "avg(CO Mean)                  0.186131     0.179794  \n",
       "avg(O3 Mean)                 -0.336845    -0.160823  \n",
       "avg(SO2 Mean)                 0.275931    -0.114577  \n",
       "population_density            1.000000     0.047009  \n",
       "num_factory                   0.047009     1.000000  "
      ]
     },
     "execution_count": 66,
     "metadata": {},
     "output_type": "execute_result"
    }
   ],
   "source": [
    "#df7p.to_csv('df7.csv')\n",
    "df7p.corr()"
   ]
  },
  {
   "cell_type": "code",
   "execution_count": 64,
   "id": "52409dfb",
   "metadata": {},
   "outputs": [
    {
     "data": {
      "text/html": [
       "<div>\n",
       "<style scoped>\n",
       "    .dataframe tbody tr th:only-of-type {\n",
       "        vertical-align: middle;\n",
       "    }\n",
       "\n",
       "    .dataframe tbody tr th {\n",
       "        vertical-align: top;\n",
       "    }\n",
       "\n",
       "    .dataframe thead th {\n",
       "        text-align: right;\n",
       "    }\n",
       "</style>\n",
       "<table border=\"1\" class=\"dataframe\">\n",
       "  <thead>\n",
       "    <tr style=\"text-align: right;\">\n",
       "      <th></th>\n",
       "      <th>avg(NO2 Mean)</th>\n",
       "      <th>avg(CO Mean)</th>\n",
       "      <th>avg(O3 Mean)</th>\n",
       "      <th>avg(SO2 Mean)</th>\n",
       "      <th>population_density</th>\n",
       "      <th>num_factory</th>\n",
       "      <th>Autos</th>\n",
       "      <th>Trucks</th>\n",
       "      <th>Total Vehicles</th>\n",
       "    </tr>\n",
       "  </thead>\n",
       "  <tbody>\n",
       "    <tr>\n",
       "      <th>avg(NO2 Mean)</th>\n",
       "      <td>1.000000</td>\n",
       "      <td>0.511820</td>\n",
       "      <td>-0.105867</td>\n",
       "      <td>0.166962</td>\n",
       "      <td>0.257804</td>\n",
       "      <td>0.469287</td>\n",
       "      <td>0.594719</td>\n",
       "      <td>0.656627</td>\n",
       "      <td>0.613328</td>\n",
       "    </tr>\n",
       "    <tr>\n",
       "      <th>avg(CO Mean)</th>\n",
       "      <td>0.511820</td>\n",
       "      <td>1.000000</td>\n",
       "      <td>-0.288117</td>\n",
       "      <td>0.128114</td>\n",
       "      <td>-0.044839</td>\n",
       "      <td>0.102574</td>\n",
       "      <td>0.145071</td>\n",
       "      <td>0.141606</td>\n",
       "      <td>0.143774</td>\n",
       "    </tr>\n",
       "    <tr>\n",
       "      <th>avg(O3 Mean)</th>\n",
       "      <td>-0.105867</td>\n",
       "      <td>-0.288117</td>\n",
       "      <td>1.000000</td>\n",
       "      <td>-0.003403</td>\n",
       "      <td>-0.359067</td>\n",
       "      <td>-0.080305</td>\n",
       "      <td>-0.118654</td>\n",
       "      <td>-0.018385</td>\n",
       "      <td>-0.095352</td>\n",
       "    </tr>\n",
       "    <tr>\n",
       "      <th>avg(SO2 Mean)</th>\n",
       "      <td>0.166962</td>\n",
       "      <td>0.128114</td>\n",
       "      <td>-0.003403</td>\n",
       "      <td>1.000000</td>\n",
       "      <td>0.019531</td>\n",
       "      <td>-0.139716</td>\n",
       "      <td>-0.004078</td>\n",
       "      <td>0.042580</td>\n",
       "      <td>0.006573</td>\n",
       "    </tr>\n",
       "    <tr>\n",
       "      <th>population_density</th>\n",
       "      <td>0.257804</td>\n",
       "      <td>-0.044839</td>\n",
       "      <td>-0.359067</td>\n",
       "      <td>0.019531</td>\n",
       "      <td>1.000000</td>\n",
       "      <td>0.502800</td>\n",
       "      <td>0.525918</td>\n",
       "      <td>0.437381</td>\n",
       "      <td>0.506228</td>\n",
       "    </tr>\n",
       "    <tr>\n",
       "      <th>num_factory</th>\n",
       "      <td>0.469287</td>\n",
       "      <td>0.102574</td>\n",
       "      <td>-0.080305</td>\n",
       "      <td>-0.139716</td>\n",
       "      <td>0.502800</td>\n",
       "      <td>1.000000</td>\n",
       "      <td>0.905554</td>\n",
       "      <td>0.848553</td>\n",
       "      <td>0.894844</td>\n",
       "    </tr>\n",
       "    <tr>\n",
       "      <th>Autos</th>\n",
       "      <td>0.594719</td>\n",
       "      <td>0.145071</td>\n",
       "      <td>-0.118654</td>\n",
       "      <td>-0.004078</td>\n",
       "      <td>0.525918</td>\n",
       "      <td>0.905554</td>\n",
       "      <td>1.000000</td>\n",
       "      <td>0.978361</td>\n",
       "      <td>0.998608</td>\n",
       "    </tr>\n",
       "    <tr>\n",
       "      <th>Trucks</th>\n",
       "      <td>0.656627</td>\n",
       "      <td>0.141606</td>\n",
       "      <td>-0.018385</td>\n",
       "      <td>0.042580</td>\n",
       "      <td>0.437381</td>\n",
       "      <td>0.848553</td>\n",
       "      <td>0.978361</td>\n",
       "      <td>1.000000</td>\n",
       "      <td>0.987782</td>\n",
       "    </tr>\n",
       "    <tr>\n",
       "      <th>Total Vehicles</th>\n",
       "      <td>0.613328</td>\n",
       "      <td>0.143774</td>\n",
       "      <td>-0.095352</td>\n",
       "      <td>0.006573</td>\n",
       "      <td>0.506228</td>\n",
       "      <td>0.894844</td>\n",
       "      <td>0.998608</td>\n",
       "      <td>0.987782</td>\n",
       "      <td>1.000000</td>\n",
       "    </tr>\n",
       "  </tbody>\n",
       "</table>\n",
       "</div>"
      ],
      "text/plain": [
       "                    avg(NO2 Mean)  avg(CO Mean)  avg(O3 Mean)  avg(SO2 Mean)  \\\n",
       "avg(NO2 Mean)            1.000000      0.511820     -0.105867       0.166962   \n",
       "avg(CO Mean)             0.511820      1.000000     -0.288117       0.128114   \n",
       "avg(O3 Mean)            -0.105867     -0.288117      1.000000      -0.003403   \n",
       "avg(SO2 Mean)            0.166962      0.128114     -0.003403       1.000000   \n",
       "population_density       0.257804     -0.044839     -0.359067       0.019531   \n",
       "num_factory              0.469287      0.102574     -0.080305      -0.139716   \n",
       "Autos                    0.594719      0.145071     -0.118654      -0.004078   \n",
       "Trucks                   0.656627      0.141606     -0.018385       0.042580   \n",
       "Total Vehicles           0.613328      0.143774     -0.095352       0.006573   \n",
       "\n",
       "                    population_density  num_factory     Autos    Trucks  \\\n",
       "avg(NO2 Mean)                 0.257804     0.469287  0.594719  0.656627   \n",
       "avg(CO Mean)                 -0.044839     0.102574  0.145071  0.141606   \n",
       "avg(O3 Mean)                 -0.359067    -0.080305 -0.118654 -0.018385   \n",
       "avg(SO2 Mean)                 0.019531    -0.139716 -0.004078  0.042580   \n",
       "population_density            1.000000     0.502800  0.525918  0.437381   \n",
       "num_factory                   0.502800     1.000000  0.905554  0.848553   \n",
       "Autos                         0.525918     0.905554  1.000000  0.978361   \n",
       "Trucks                        0.437381     0.848553  0.978361  1.000000   \n",
       "Total Vehicles                0.506228     0.894844  0.998608  0.987782   \n",
       "\n",
       "                    Total Vehicles  \n",
       "avg(NO2 Mean)             0.613328  \n",
       "avg(CO Mean)              0.143774  \n",
       "avg(O3 Mean)             -0.095352  \n",
       "avg(SO2 Mean)             0.006573  \n",
       "population_density        0.506228  \n",
       "num_factory               0.894844  \n",
       "Autos                     0.998608  \n",
       "Trucks                    0.987782  \n",
       "Total Vehicles            1.000000  "
      ]
     },
     "execution_count": 64,
     "metadata": {},
     "output_type": "execute_result"
    }
   ],
   "source": [
    "df8p.corr()"
   ]
  },
  {
   "cell_type": "code",
   "execution_count": 71,
   "id": "329ac8bf",
   "metadata": {},
   "outputs": [],
   "source": [
    "train7,test7 = train_test_split(df7p, test_size=0.2, random_state=42)"
   ]
  },
  {
   "cell_type": "code",
   "execution_count": 72,
   "id": "3ebb9945",
   "metadata": {},
   "outputs": [],
   "source": [
    "X7_train = train7.drop(['avg(NO2 Mean)'], axis=1)\n",
    "y7_train = train7['avg(NO2 Mean)']\n",
    "X7_test = test7.drop(['avg(NO2 Mean)'], axis=1)\n",
    "y7_test = test7['avg(NO2 Mean)']"
   ]
  },
  {
   "cell_type": "code",
   "execution_count": 105,
   "id": "fc88e225",
   "metadata": {},
   "outputs": [
    {
     "data": {
      "text/plain": [
       "11.79445004504477"
      ]
     },
     "execution_count": 105,
     "metadata": {},
     "output_type": "execute_result"
    }
   ],
   "source": [
    "p_model = LinearRegression()\n",
    "p_model.fit(X7_train, y7_train)\n",
    "\n",
    "predicted_no2 = p_model.predict(X7_test)\n",
    "\n",
    "mean_squared_error(y7_test, predicted_no2)\n"
   ]
  },
  {
   "cell_type": "code",
   "execution_count": 79,
   "id": "9679210e",
   "metadata": {},
   "outputs": [
    {
     "data": {
      "text/plain": [
       "2.639403969164844"
      ]
     },
     "execution_count": 79,
     "metadata": {},
     "output_type": "execute_result"
    }
   ],
   "source": [
    "mean_absolute_error(y7_test, predicted_no2)"
   ]
  },
  {
   "cell_type": "code",
   "execution_count": 115,
   "id": "28838dd5",
   "metadata": {},
   "outputs": [
    {
     "data": {
      "text/plain": [
       "0.6542914724927071"
      ]
     },
     "execution_count": 115,
     "metadata": {},
     "output_type": "execute_result"
    }
   ],
   "source": [
    "p_model.score(X7_test,y7_test)"
   ]
  },
  {
   "cell_type": "code",
   "execution_count": 103,
   "id": "86ece84e",
   "metadata": {},
   "outputs": [],
   "source": [
    "vif_data = pd.DataFrame() \n",
    "vif_data[\"feature\"] = df7p.columns \n",
    "  \n",
    "# calculating VIF for each feature \n",
    "vif_data[\"VIF\"] = [variance_inflation_factor(df7p.values, i) \n",
    "                          for i in range(len(df7p.columns))] \n",
    "\n",
    "vif_data"
   ]
  },
  {
   "cell_type": "code",
   "execution_count": 118,
   "id": "e964200c",
   "metadata": {},
   "outputs": [
    {
     "data": {
      "text/plain": [
       "11.9876537155538"
      ]
     },
     "execution_count": 118,
     "metadata": {},
     "output_type": "execute_result"
    }
   ],
   "source": [
    "p_model1 = DecisionTreeRegressor(max_depth=5,random_state=7)\n",
    "p_model1.fit(X7_train, y7_train)\n",
    "\n",
    "predicted_no2 = p_model1.predict(X7_test)\n",
    "\n",
    "mean_squared_error(y7_test, predicted_no2)"
   ]
  },
  {
   "cell_type": "code",
   "execution_count": 119,
   "id": "491cc71d",
   "metadata": {},
   "outputs": [
    {
     "data": {
      "text/plain": [
       "2.6962862943253434"
      ]
     },
     "execution_count": 119,
     "metadata": {},
     "output_type": "execute_result"
    }
   ],
   "source": [
    "mean_absolute_error(y7_test, predicted_no2)"
   ]
  },
  {
   "cell_type": "code",
   "execution_count": 134,
   "id": "53cc7ce6",
   "metadata": {},
   "outputs": [
    {
     "data": {
      "text/plain": [
       "6.228282772477633"
      ]
     },
     "execution_count": 134,
     "metadata": {},
     "output_type": "execute_result"
    }
   ],
   "source": [
    "p_model11 = RandomForestRegressor(n_estimators=100,\n",
    "                                  random_state=7)\n",
    "\n",
    "p_model11.fit(X7_train, y7_train)\n",
    "\n",
    "predicted_no22 = p_model11.predict(X7_test)\n",
    "\n",
    "mean_squared_error(y7_test, predicted_no22)"
   ]
  },
  {
   "cell_type": "code",
   "execution_count": 135,
   "id": "f4dac584",
   "metadata": {},
   "outputs": [
    {
     "data": {
      "text/plain": [
       "1.868858897992442"
      ]
     },
     "execution_count": 135,
     "metadata": {},
     "output_type": "execute_result"
    }
   ],
   "source": [
    "mean_absolute_error(y7_test, predicted_no22)"
   ]
  },
  {
   "cell_type": "code",
   "execution_count": 116,
   "id": "a48b019a",
   "metadata": {},
   "outputs": [],
   "source": [
    "train8,test8 = train_test_split(df8p, test_size=0.2, random_state=42)"
   ]
  },
  {
   "cell_type": "code",
   "execution_count": 117,
   "id": "09e30b92",
   "metadata": {},
   "outputs": [],
   "source": [
    "X8_train = train8.drop(['avg(NO2 Mean)'], axis=1)\n",
    "y8_train = train8['avg(NO2 Mean)']\n",
    "X8_test = test8.drop(['avg(NO2 Mean)'], axis=1)\n",
    "y8_test = test8['avg(NO2 Mean)']"
   ]
  },
  {
   "cell_type": "code",
   "execution_count": 122,
   "id": "3ec5b7ac",
   "metadata": {},
   "outputs": [
    {
     "data": {
      "text/plain": [
       "8.284689383518991"
      ]
     },
     "execution_count": 122,
     "metadata": {},
     "output_type": "execute_result"
    }
   ],
   "source": [
    "p_model2 = LinearRegression()\n",
    "p_model2.fit(X8_train, y8_train)\n",
    "\n",
    "predicted_no22 = p_model2.predict(X8_test)\n",
    "\n",
    "mean_squared_error(y8_test, predicted_no22)"
   ]
  },
  {
   "cell_type": "code",
   "execution_count": 126,
   "id": "9c8cd6a6",
   "metadata": {},
   "outputs": [
    {
     "data": {
      "text/plain": [
       "2.347262469146624"
      ]
     },
     "execution_count": 126,
     "metadata": {},
     "output_type": "execute_result"
    }
   ],
   "source": [
    "mean_absolute_error(y8_test, predicted_no22)"
   ]
  },
  {
   "cell_type": "code",
   "execution_count": 124,
   "id": "ca58f946",
   "metadata": {},
   "outputs": [
    {
     "data": {
      "text/plain": [
       "0.726482192118924"
      ]
     },
     "execution_count": 124,
     "metadata": {},
     "output_type": "execute_result"
    }
   ],
   "source": [
    "p_model2.score(X8_test,y8_test)"
   ]
  }
 ],
 "metadata": {
  "kernelspec": {
   "display_name": "Python [conda env:root] *",
   "language": "python",
   "name": "conda-root-py"
  },
  "language_info": {
   "codemirror_mode": {
    "name": "ipython",
    "version": 3
   },
   "file_extension": ".py",
   "mimetype": "text/x-python",
   "name": "python",
   "nbconvert_exporter": "python",
   "pygments_lexer": "ipython3",
   "version": "3.9.12"
  }
 },
 "nbformat": 4,
 "nbformat_minor": 5
}
