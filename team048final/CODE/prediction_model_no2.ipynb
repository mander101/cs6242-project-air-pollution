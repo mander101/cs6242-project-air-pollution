{
 "cells": [
  {
   "cell_type": "code",
   "execution_count": 30,
   "id": "c0e742bd",
   "metadata": {},
   "outputs": [],
   "source": [
    "import pyspark\n",
    "from pyspark.sql import SQLContext\n",
    "from pyspark.sql.functions import year,month,hour, when, col, date_format, to_timestamp, round, coalesce\n",
    "from pyspark.sql import SparkSession\n",
    "import pandas as pd\n",
    "from sklearn.linear_model import LinearRegression\n",
    "from sklearn.model_selection import train_test_split, GridSearchCV\n",
    "from sklearn.metrics import mean_squared_error, mean_absolute_error, mean_absolute_percentage_error\n",
    "from sklearn.tree import DecisionTreeRegressor\n",
    "import statsmodels.api as sm\n",
    "from statsmodels.stats.outliers_influence import variance_inflation_factor\n",
    "import numpy as np\n",
    "from sklearn.ensemble import RandomForestRegressor\n",
    "import matplotlib.pyplot as plt"
   ]
  },
  {
   "cell_type": "code",
   "execution_count": 3,
   "id": "3bacd91a",
   "metadata": {},
   "outputs": [
    {
     "name": "stderr",
     "output_type": "stream",
     "text": [
      "C:\\Users\\baris\\anaconda3\\lib\\site-packages\\pyspark\\sql\\context.py:112: FutureWarning: Deprecated in 3.0.0. Use SparkSession.builder.getOrCreate() instead.\n",
      "  warnings.warn(\n"
     ]
    }
   ],
   "source": [
    "sc = pyspark.SparkSession('local', 'test')\n",
    "#sc = pyspark.SparkContext(appName=\"Prediction model NO2\")\n",
    "sqlContext = SQLContext(sc)"
   ]
  },
  {
   "cell_type": "code",
   "execution_count": 4,
   "id": "81304cba",
   "metadata": {},
   "outputs": [],
   "source": [
    "df = sqlContext.read.option(\"header\",True).option(\"inferSchema\",True) \\\n",
    "     .csv(\"pollution_us_2000_2016.csv\")"
   ]
  },
  {
   "cell_type": "code",
   "execution_count": 5,
   "id": "77f8013f",
   "metadata": {},
   "outputs": [],
   "source": [
    "df=df.withColumn(\"year\",year(\"Date Local\"))"
   ]
  },
  {
   "cell_type": "code",
   "execution_count": 6,
   "id": "b18b7d93",
   "metadata": {},
   "outputs": [],
   "source": [
    "df1=df.select(\"State\",\"County\",\"year\",\"NO2 Mean\",\"CO Mean\",'O3 Mean','SO2 Mean')\\\n",
    ".groupBy(\"State\",\"County\",\"year\").avg(\"NO2 Mean\",\"CO Mean\",'O3 Mean','SO2 Mean')"
   ]
  },
  {
   "cell_type": "code",
   "execution_count": 7,
   "id": "f8f781e5",
   "metadata": {},
   "outputs": [],
   "source": [
    "df1p=df1.toPandas()"
   ]
  },
  {
   "cell_type": "code",
   "execution_count": 8,
   "id": "ab6d2191",
   "metadata": {},
   "outputs": [],
   "source": [
    "df2p=pd.read_csv(\"death_data.csv\")"
   ]
  },
  {
   "cell_type": "code",
   "execution_count": 9,
   "id": "2045dfbc",
   "metadata": {},
   "outputs": [],
   "source": [
    "us_state_abbrev={'AK':'Alaska','AL':'Alabama','AR':'Arkansas','AZ':'Arizona','CA': 'California','CO':'Colorado',\\\n",
    "                                 'CT':'Connecticut','DE':'Delaware','FL':'Florida','GA':'Georgia','HI':'Hawaii','IA':'Iowa',\\\n",
    "                                 'ID':'Idaho','IL': 'Illinois','IN':'Indiana','KS':'Kansas','KY':'Kentucky','LA':'Louisiana', \\\n",
    "                                'MA':'Massachusetts','MD':'Maryland','ME':'Maine','MI':'Michigan','MN':'Minnesota','MO':'Missouri', \\\n",
    "                                'NC':'North Carolina','ND':'North Dakota','NH':'New Hampshire','NJ':'New Jersey','NM':'New Mexico', \\\n",
    "                                'NV':'Nevada','NY':'New York','OH':'Ohio','OK':'Oklahoma','OR':'Oregon','PA':'Pennsylvania' ,\\\n",
    "                                'RI':'Rhode Island','SC':'South Carolina','SD':'South Dakota','TN':'Tennessee','TX':'Texas', \\\n",
    "                                'UT':'Utah','VA':'Virginia','WA':'Washington','WI':'Wisconsin','WY':'Wyoming'}"
   ]
  },
  {
   "cell_type": "code",
   "execution_count": 10,
   "id": "3882c91a",
   "metadata": {},
   "outputs": [],
   "source": [
    "df2p['State']=df2p['State'].map(us_state_abbrev)"
   ]
  },
  {
   "cell_type": "code",
   "execution_count": 11,
   "id": "c8a8fc8b",
   "metadata": {},
   "outputs": [],
   "source": [
    "df_all=df1p.sort_values(by=['year'])"
   ]
  },
  {
   "cell_type": "code",
   "execution_count": 12,
   "id": "74475ca3",
   "metadata": {},
   "outputs": [],
   "source": [
    "df3p=pd.merge(df_all,df2p,how=\"inner\", left_on=['State','County','year'], right_on=['State','County_Name','Year'])"
   ]
  },
  {
   "cell_type": "code",
   "execution_count": 13,
   "id": "fdd5d585",
   "metadata": {},
   "outputs": [],
   "source": [
    "df3p=df3p.T.drop_duplicates().T"
   ]
  },
  {
   "cell_type": "code",
   "execution_count": 14,
   "id": "912f4cb3",
   "metadata": {},
   "outputs": [],
   "source": [
    "df4p=pd.read_csv(\"manufaturing_totals_2000_to_2016_restructure.csv\")"
   ]
  },
  {
   "cell_type": "code",
   "execution_count": 15,
   "id": "c22c0c43",
   "metadata": {},
   "outputs": [],
   "source": [
    "df5p=df4p.dropna()"
   ]
  },
  {
   "cell_type": "code",
   "execution_count": 17,
   "id": "f4ac4abc",
   "metadata": {},
   "outputs": [],
   "source": [
    "df5p['state']=df5p['state'].map(us_state_abbrev)"
   ]
  },
  {
   "cell_type": "code",
   "execution_count": 18,
   "id": "532b3bea",
   "metadata": {},
   "outputs": [],
   "source": [
    "def swap_columns(df, col1, col2):\n",
    "    col_list = list(df.columns)\n",
    "    x, y = col_list.index(col1), col_list.index(col2)\n",
    "    col_list[y], col_list[x] = col_list[x], col_list[y]\n",
    "    df = df[col_list]\n",
    "    return df"
   ]
  },
  {
   "cell_type": "code",
   "execution_count": 19,
   "id": "3a527f30",
   "metadata": {},
   "outputs": [],
   "source": [
    "df5p = swap_columns(df5p, 'county', 'state')\n",
    "df5p=df5p.rename(columns={\"state\": \"State\", \"county\": \"County\", \"fat_amount\": \"num_factory\"})"
   ]
  },
  {
   "cell_type": "code",
   "execution_count": 1,
   "id": "7fd71ee5",
   "metadata": {},
   "outputs": [],
   "source": [
    "#df5p"
   ]
  },
  {
   "cell_type": "code",
   "execution_count": 21,
   "id": "4f8166c3",
   "metadata": {},
   "outputs": [],
   "source": [
    "df6p=pd.merge(df3p,df5p,how=\"inner\", on=['State','County','year'])"
   ]
  },
  {
   "cell_type": "code",
   "execution_count": 2,
   "id": "958286ce",
   "metadata": {},
   "outputs": [],
   "source": [
    "#df6p"
   ]
  },
  {
   "cell_type": "code",
   "execution_count": 44,
   "id": "fd0cac11",
   "metadata": {},
   "outputs": [],
   "source": [
    "df7p=df6p[['avg(NO2 Mean)','avg(CO Mean)','avg(O3 Mean)','avg(SO2 Mean)', 'population_density','num_factory']]"
   ]
  },
  {
   "cell_type": "code",
   "execution_count": 101,
   "id": "3eddb4f7",
   "metadata": {},
   "outputs": [
    {
     "data": {
      "text/plain": [
       "0.696526508226691"
      ]
     },
     "execution_count": 101,
     "metadata": {},
     "output_type": "execute_result"
    }
   ],
   "source": [
    "#plt.hist(df6p['avg(NO2 Mean)'])\n",
    "len(df6p[df6p['avg(NO2 Mean)']>9])/1094"
   ]
  },
  {
   "cell_type": "code",
   "execution_count": 40,
   "id": "bfb24a81",
   "metadata": {},
   "outputs": [],
   "source": [
    "cars=pd.read_csv(\"CA_county_cars.csv\")"
   ]
  },
  {
   "cell_type": "code",
   "execution_count": 41,
   "id": "2d769ac6",
   "metadata": {},
   "outputs": [],
   "source": [
    "df7p_cars=pd.merge(df6p,cars,how=\"inner\", on=['State','County','year'])"
   ]
  },
  {
   "cell_type": "code",
   "execution_count": 42,
   "id": "cb9c7fd1",
   "metadata": {},
   "outputs": [],
   "source": [
    "df8p=df7p_cars[['avg(NO2 Mean)','avg(CO Mean)','avg(O3 Mean)','avg(SO2 Mean)', 'population_density','num_factory','Autos','Trucks','Total Vehicles']]"
   ]
  },
  {
   "cell_type": "code",
   "execution_count": 45,
   "id": "48801825",
   "metadata": {},
   "outputs": [],
   "source": [
    "df8p = df8p.astype(float)\n",
    "df7p = df7p.astype(float)"
   ]
  },
  {
   "cell_type": "code",
   "execution_count": 46,
   "id": "dd8de80b",
   "metadata": {},
   "outputs": [
    {
     "data": {
      "text/html": [
       "<div>\n",
       "<style scoped>\n",
       "    .dataframe tbody tr th:only-of-type {\n",
       "        vertical-align: middle;\n",
       "    }\n",
       "\n",
       "    .dataframe tbody tr th {\n",
       "        vertical-align: top;\n",
       "    }\n",
       "\n",
       "    .dataframe thead th {\n",
       "        text-align: right;\n",
       "    }\n",
       "</style>\n",
       "<table border=\"1\" class=\"dataframe\">\n",
       "  <thead>\n",
       "    <tr style=\"text-align: right;\">\n",
       "      <th></th>\n",
       "      <th>avg(NO2 Mean)</th>\n",
       "      <th>avg(CO Mean)</th>\n",
       "      <th>avg(O3 Mean)</th>\n",
       "      <th>avg(SO2 Mean)</th>\n",
       "      <th>population_density</th>\n",
       "      <th>num_factory</th>\n",
       "    </tr>\n",
       "  </thead>\n",
       "  <tbody>\n",
       "    <tr>\n",
       "      <th>avg(NO2 Mean)</th>\n",
       "      <td>1.000000</td>\n",
       "      <td>0.587601</td>\n",
       "      <td>-0.525557</td>\n",
       "      <td>0.416436</td>\n",
       "      <td>0.437043</td>\n",
       "      <td>0.294672</td>\n",
       "    </tr>\n",
       "    <tr>\n",
       "      <th>avg(CO Mean)</th>\n",
       "      <td>0.587601</td>\n",
       "      <td>1.000000</td>\n",
       "      <td>-0.392298</td>\n",
       "      <td>0.149995</td>\n",
       "      <td>0.186131</td>\n",
       "      <td>0.179794</td>\n",
       "    </tr>\n",
       "    <tr>\n",
       "      <th>avg(O3 Mean)</th>\n",
       "      <td>-0.525557</td>\n",
       "      <td>-0.392298</td>\n",
       "      <td>1.000000</td>\n",
       "      <td>-0.170427</td>\n",
       "      <td>-0.336845</td>\n",
       "      <td>-0.160823</td>\n",
       "    </tr>\n",
       "    <tr>\n",
       "      <th>avg(SO2 Mean)</th>\n",
       "      <td>0.416436</td>\n",
       "      <td>0.149995</td>\n",
       "      <td>-0.170427</td>\n",
       "      <td>1.000000</td>\n",
       "      <td>0.275931</td>\n",
       "      <td>-0.114577</td>\n",
       "    </tr>\n",
       "    <tr>\n",
       "      <th>population_density</th>\n",
       "      <td>0.437043</td>\n",
       "      <td>0.186131</td>\n",
       "      <td>-0.336845</td>\n",
       "      <td>0.275931</td>\n",
       "      <td>1.000000</td>\n",
       "      <td>0.047009</td>\n",
       "    </tr>\n",
       "    <tr>\n",
       "      <th>num_factory</th>\n",
       "      <td>0.294672</td>\n",
       "      <td>0.179794</td>\n",
       "      <td>-0.160823</td>\n",
       "      <td>-0.114577</td>\n",
       "      <td>0.047009</td>\n",
       "      <td>1.000000</td>\n",
       "    </tr>\n",
       "  </tbody>\n",
       "</table>\n",
       "</div>"
      ],
      "text/plain": [
       "                    avg(NO2 Mean)  avg(CO Mean)  avg(O3 Mean)  avg(SO2 Mean)  \\\n",
       "avg(NO2 Mean)            1.000000      0.587601     -0.525557       0.416436   \n",
       "avg(CO Mean)             0.587601      1.000000     -0.392298       0.149995   \n",
       "avg(O3 Mean)            -0.525557     -0.392298      1.000000      -0.170427   \n",
       "avg(SO2 Mean)            0.416436      0.149995     -0.170427       1.000000   \n",
       "population_density       0.437043      0.186131     -0.336845       0.275931   \n",
       "num_factory              0.294672      0.179794     -0.160823      -0.114577   \n",
       "\n",
       "                    population_density  num_factory  \n",
       "avg(NO2 Mean)                 0.437043     0.294672  \n",
       "avg(CO Mean)                  0.186131     0.179794  \n",
       "avg(O3 Mean)                 -0.336845    -0.160823  \n",
       "avg(SO2 Mean)                 0.275931    -0.114577  \n",
       "population_density            1.000000     0.047009  \n",
       "num_factory                   0.047009     1.000000  "
      ]
     },
     "execution_count": 46,
     "metadata": {},
     "output_type": "execute_result"
    }
   ],
   "source": [
    "#df7p.to_csv('df7.csv')\n",
    "df7p.corr()"
   ]
  },
  {
   "cell_type": "code",
   "execution_count": 47,
   "id": "c36dc5d0",
   "metadata": {},
   "outputs": [
    {
     "data": {
      "text/html": [
       "<div>\n",
       "<style scoped>\n",
       "    .dataframe tbody tr th:only-of-type {\n",
       "        vertical-align: middle;\n",
       "    }\n",
       "\n",
       "    .dataframe tbody tr th {\n",
       "        vertical-align: top;\n",
       "    }\n",
       "\n",
       "    .dataframe thead th {\n",
       "        text-align: right;\n",
       "    }\n",
       "</style>\n",
       "<table border=\"1\" class=\"dataframe\">\n",
       "  <thead>\n",
       "    <tr style=\"text-align: right;\">\n",
       "      <th></th>\n",
       "      <th>avg(NO2 Mean)</th>\n",
       "      <th>avg(CO Mean)</th>\n",
       "      <th>avg(O3 Mean)</th>\n",
       "      <th>avg(SO2 Mean)</th>\n",
       "      <th>population_density</th>\n",
       "      <th>num_factory</th>\n",
       "      <th>Autos</th>\n",
       "      <th>Trucks</th>\n",
       "      <th>Total Vehicles</th>\n",
       "    </tr>\n",
       "  </thead>\n",
       "  <tbody>\n",
       "    <tr>\n",
       "      <th>avg(NO2 Mean)</th>\n",
       "      <td>1.000000</td>\n",
       "      <td>0.511820</td>\n",
       "      <td>-0.105867</td>\n",
       "      <td>0.166962</td>\n",
       "      <td>0.257804</td>\n",
       "      <td>0.469287</td>\n",
       "      <td>0.594719</td>\n",
       "      <td>0.656627</td>\n",
       "      <td>0.613328</td>\n",
       "    </tr>\n",
       "    <tr>\n",
       "      <th>avg(CO Mean)</th>\n",
       "      <td>0.511820</td>\n",
       "      <td>1.000000</td>\n",
       "      <td>-0.288117</td>\n",
       "      <td>0.128114</td>\n",
       "      <td>-0.044839</td>\n",
       "      <td>0.102574</td>\n",
       "      <td>0.145071</td>\n",
       "      <td>0.141606</td>\n",
       "      <td>0.143774</td>\n",
       "    </tr>\n",
       "    <tr>\n",
       "      <th>avg(O3 Mean)</th>\n",
       "      <td>-0.105867</td>\n",
       "      <td>-0.288117</td>\n",
       "      <td>1.000000</td>\n",
       "      <td>-0.003403</td>\n",
       "      <td>-0.359067</td>\n",
       "      <td>-0.080305</td>\n",
       "      <td>-0.118654</td>\n",
       "      <td>-0.018385</td>\n",
       "      <td>-0.095352</td>\n",
       "    </tr>\n",
       "    <tr>\n",
       "      <th>avg(SO2 Mean)</th>\n",
       "      <td>0.166962</td>\n",
       "      <td>0.128114</td>\n",
       "      <td>-0.003403</td>\n",
       "      <td>1.000000</td>\n",
       "      <td>0.019531</td>\n",
       "      <td>-0.139716</td>\n",
       "      <td>-0.004078</td>\n",
       "      <td>0.042580</td>\n",
       "      <td>0.006573</td>\n",
       "    </tr>\n",
       "    <tr>\n",
       "      <th>population_density</th>\n",
       "      <td>0.257804</td>\n",
       "      <td>-0.044839</td>\n",
       "      <td>-0.359067</td>\n",
       "      <td>0.019531</td>\n",
       "      <td>1.000000</td>\n",
       "      <td>0.502800</td>\n",
       "      <td>0.525918</td>\n",
       "      <td>0.437381</td>\n",
       "      <td>0.506228</td>\n",
       "    </tr>\n",
       "    <tr>\n",
       "      <th>num_factory</th>\n",
       "      <td>0.469287</td>\n",
       "      <td>0.102574</td>\n",
       "      <td>-0.080305</td>\n",
       "      <td>-0.139716</td>\n",
       "      <td>0.502800</td>\n",
       "      <td>1.000000</td>\n",
       "      <td>0.905554</td>\n",
       "      <td>0.848553</td>\n",
       "      <td>0.894844</td>\n",
       "    </tr>\n",
       "    <tr>\n",
       "      <th>Autos</th>\n",
       "      <td>0.594719</td>\n",
       "      <td>0.145071</td>\n",
       "      <td>-0.118654</td>\n",
       "      <td>-0.004078</td>\n",
       "      <td>0.525918</td>\n",
       "      <td>0.905554</td>\n",
       "      <td>1.000000</td>\n",
       "      <td>0.978361</td>\n",
       "      <td>0.998608</td>\n",
       "    </tr>\n",
       "    <tr>\n",
       "      <th>Trucks</th>\n",
       "      <td>0.656627</td>\n",
       "      <td>0.141606</td>\n",
       "      <td>-0.018385</td>\n",
       "      <td>0.042580</td>\n",
       "      <td>0.437381</td>\n",
       "      <td>0.848553</td>\n",
       "      <td>0.978361</td>\n",
       "      <td>1.000000</td>\n",
       "      <td>0.987782</td>\n",
       "    </tr>\n",
       "    <tr>\n",
       "      <th>Total Vehicles</th>\n",
       "      <td>0.613328</td>\n",
       "      <td>0.143774</td>\n",
       "      <td>-0.095352</td>\n",
       "      <td>0.006573</td>\n",
       "      <td>0.506228</td>\n",
       "      <td>0.894844</td>\n",
       "      <td>0.998608</td>\n",
       "      <td>0.987782</td>\n",
       "      <td>1.000000</td>\n",
       "    </tr>\n",
       "  </tbody>\n",
       "</table>\n",
       "</div>"
      ],
      "text/plain": [
       "                    avg(NO2 Mean)  avg(CO Mean)  avg(O3 Mean)  avg(SO2 Mean)  \\\n",
       "avg(NO2 Mean)            1.000000      0.511820     -0.105867       0.166962   \n",
       "avg(CO Mean)             0.511820      1.000000     -0.288117       0.128114   \n",
       "avg(O3 Mean)            -0.105867     -0.288117      1.000000      -0.003403   \n",
       "avg(SO2 Mean)            0.166962      0.128114     -0.003403       1.000000   \n",
       "population_density       0.257804     -0.044839     -0.359067       0.019531   \n",
       "num_factory              0.469287      0.102574     -0.080305      -0.139716   \n",
       "Autos                    0.594719      0.145071     -0.118654      -0.004078   \n",
       "Trucks                   0.656627      0.141606     -0.018385       0.042580   \n",
       "Total Vehicles           0.613328      0.143774     -0.095352       0.006573   \n",
       "\n",
       "                    population_density  num_factory     Autos    Trucks  \\\n",
       "avg(NO2 Mean)                 0.257804     0.469287  0.594719  0.656627   \n",
       "avg(CO Mean)                 -0.044839     0.102574  0.145071  0.141606   \n",
       "avg(O3 Mean)                 -0.359067    -0.080305 -0.118654 -0.018385   \n",
       "avg(SO2 Mean)                 0.019531    -0.139716 -0.004078  0.042580   \n",
       "population_density            1.000000     0.502800  0.525918  0.437381   \n",
       "num_factory                   0.502800     1.000000  0.905554  0.848553   \n",
       "Autos                         0.525918     0.905554  1.000000  0.978361   \n",
       "Trucks                        0.437381     0.848553  0.978361  1.000000   \n",
       "Total Vehicles                0.506228     0.894844  0.998608  0.987782   \n",
       "\n",
       "                    Total Vehicles  \n",
       "avg(NO2 Mean)             0.613328  \n",
       "avg(CO Mean)              0.143774  \n",
       "avg(O3 Mean)             -0.095352  \n",
       "avg(SO2 Mean)             0.006573  \n",
       "population_density        0.506228  \n",
       "num_factory               0.894844  \n",
       "Autos                     0.998608  \n",
       "Trucks                    0.987782  \n",
       "Total Vehicles            1.000000  "
      ]
     },
     "execution_count": 47,
     "metadata": {},
     "output_type": "execute_result"
    }
   ],
   "source": [
    "df8p.corr()"
   ]
  },
  {
   "cell_type": "code",
   "execution_count": 48,
   "id": "329ac8bf",
   "metadata": {},
   "outputs": [],
   "source": [
    "train7,test7 = train_test_split(df7p, test_size=0.2, random_state=42)"
   ]
  },
  {
   "cell_type": "code",
   "execution_count": 49,
   "id": "3ebb9945",
   "metadata": {},
   "outputs": [],
   "source": [
    "X7_train = train7.drop(['avg(NO2 Mean)'], axis=1)\n",
    "y7_train = train7['avg(NO2 Mean)']\n",
    "X7_test = test7.drop(['avg(NO2 Mean)'], axis=1)\n",
    "y7_test = test7['avg(NO2 Mean)']"
   ]
  },
  {
   "cell_type": "code",
   "execution_count": 50,
   "id": "2fec20d2",
   "metadata": {},
   "outputs": [
    {
     "data": {
      "text/plain": [
       "11.79445004504477"
      ]
     },
     "execution_count": 50,
     "metadata": {},
     "output_type": "execute_result"
    }
   ],
   "source": [
    "p_model = LinearRegression()\n",
    "p_model.fit(X7_train, y7_train)\n",
    "\n",
    "predicted_no2 = p_model.predict(X7_test)\n",
    "\n",
    "mean_squared_error(y7_test, predicted_no2)\n"
   ]
  },
  {
   "cell_type": "code",
   "execution_count": 51,
   "id": "c4e9a19a",
   "metadata": {},
   "outputs": [
    {
     "data": {
      "text/plain": [
       "2.639403969164844"
      ]
     },
     "execution_count": 51,
     "metadata": {},
     "output_type": "execute_result"
    }
   ],
   "source": [
    "mean_absolute_error(y7_test, predicted_no2)"
   ]
  },
  {
   "cell_type": "code",
   "execution_count": 52,
   "id": "7fff960c",
   "metadata": {},
   "outputs": [
    {
     "data": {
      "text/plain": [
       "0.35532939530478447"
      ]
     },
     "execution_count": 52,
     "metadata": {},
     "output_type": "execute_result"
    }
   ],
   "source": [
    "mean_absolute_percentage_error(y7_test, predicted_no2)"
   ]
  },
  {
   "cell_type": "code",
   "execution_count": 53,
   "id": "56c5d42e",
   "metadata": {},
   "outputs": [
    {
     "data": {
      "text/plain": [
       "0.6542914724927071"
      ]
     },
     "execution_count": 53,
     "metadata": {},
     "output_type": "execute_result"
    }
   ],
   "source": [
    "p_model.score(X7_test,y7_test)"
   ]
  },
  {
   "cell_type": "code",
   "execution_count": 54,
   "id": "418bf674",
   "metadata": {},
   "outputs": [
    {
     "data": {
      "text/html": [
       "<div>\n",
       "<style scoped>\n",
       "    .dataframe tbody tr th:only-of-type {\n",
       "        vertical-align: middle;\n",
       "    }\n",
       "\n",
       "    .dataframe tbody tr th {\n",
       "        vertical-align: top;\n",
       "    }\n",
       "\n",
       "    .dataframe thead th {\n",
       "        text-align: right;\n",
       "    }\n",
       "</style>\n",
       "<table border=\"1\" class=\"dataframe\">\n",
       "  <thead>\n",
       "    <tr style=\"text-align: right;\">\n",
       "      <th></th>\n",
       "      <th>feature</th>\n",
       "      <th>VIF</th>\n",
       "    </tr>\n",
       "  </thead>\n",
       "  <tbody>\n",
       "    <tr>\n",
       "      <th>0</th>\n",
       "      <td>avg(NO2 Mean)</td>\n",
       "      <td>10.669499</td>\n",
       "    </tr>\n",
       "    <tr>\n",
       "      <th>1</th>\n",
       "      <td>avg(CO Mean)</td>\n",
       "      <td>6.246751</td>\n",
       "    </tr>\n",
       "    <tr>\n",
       "      <th>2</th>\n",
       "      <td>avg(O3 Mean)</td>\n",
       "      <td>3.722601</td>\n",
       "    </tr>\n",
       "    <tr>\n",
       "      <th>3</th>\n",
       "      <td>avg(SO2 Mean)</td>\n",
       "      <td>2.696611</td>\n",
       "    </tr>\n",
       "    <tr>\n",
       "      <th>4</th>\n",
       "      <td>population_density</td>\n",
       "      <td>1.615347</td>\n",
       "    </tr>\n",
       "    <tr>\n",
       "      <th>5</th>\n",
       "      <td>num_factory</td>\n",
       "      <td>1.558041</td>\n",
       "    </tr>\n",
       "  </tbody>\n",
       "</table>\n",
       "</div>"
      ],
      "text/plain": [
       "              feature        VIF\n",
       "0       avg(NO2 Mean)  10.669499\n",
       "1        avg(CO Mean)   6.246751\n",
       "2        avg(O3 Mean)   3.722601\n",
       "3       avg(SO2 Mean)   2.696611\n",
       "4  population_density   1.615347\n",
       "5         num_factory   1.558041"
      ]
     },
     "execution_count": 54,
     "metadata": {},
     "output_type": "execute_result"
    }
   ],
   "source": [
    "vif_data = pd.DataFrame() \n",
    "vif_data[\"feature\"] = df7p.columns \n",
    "  \n",
    "# calculating VIF for each feature \n",
    "vif_data[\"VIF\"] = [variance_inflation_factor(df7p.values, i) \n",
    "                          for i in range(len(df7p.columns))] \n",
    "\n",
    "vif_data"
   ]
  },
  {
   "cell_type": "code",
   "execution_count": 55,
   "id": "80569032",
   "metadata": {},
   "outputs": [
    {
     "data": {
      "text/plain": [
       "11.9876537155538"
      ]
     },
     "execution_count": 55,
     "metadata": {},
     "output_type": "execute_result"
    }
   ],
   "source": [
    "p_model1 = DecisionTreeRegressor(max_depth=5,random_state=7)\n",
    "p_model1.fit(X7_train, y7_train)\n",
    "\n",
    "predicted_no2 = p_model1.predict(X7_test)\n",
    "\n",
    "mean_squared_error(y7_test, predicted_no2)"
   ]
  },
  {
   "cell_type": "code",
   "execution_count": 56,
   "id": "5b1be7fa",
   "metadata": {},
   "outputs": [
    {
     "data": {
      "text/plain": [
       "2.6962862943253434"
      ]
     },
     "execution_count": 56,
     "metadata": {},
     "output_type": "execute_result"
    }
   ],
   "source": [
    "mean_absolute_error(y7_test, predicted_no2)"
   ]
  },
  {
   "cell_type": "code",
   "execution_count": 57,
   "id": "68a01249",
   "metadata": {},
   "outputs": [
    {
     "data": {
      "text/plain": [
       "0.3309806346074968"
      ]
     },
     "execution_count": 57,
     "metadata": {},
     "output_type": "execute_result"
    }
   ],
   "source": [
    "mean_absolute_percentage_error(y7_test, predicted_no2)"
   ]
  },
  {
   "cell_type": "code",
   "execution_count": 58,
   "id": "2a466ee4",
   "metadata": {},
   "outputs": [
    {
     "data": {
      "text/plain": [
       "6.166693468619689"
      ]
     },
     "execution_count": 58,
     "metadata": {},
     "output_type": "execute_result"
    }
   ],
   "source": [
    "p_model11 = RandomForestRegressor(n_estimators=200,\n",
    "                                  random_state=42)\n",
    "\n",
    "p_model11.fit(X7_train, y7_train)\n",
    "\n",
    "predicted_no22 = p_model11.predict(X7_test)\n",
    "\n",
    "mean_squared_error(y7_test, predicted_no22)"
   ]
  },
  {
   "cell_type": "code",
   "execution_count": 59,
   "id": "44162936",
   "metadata": {},
   "outputs": [
    {
     "data": {
      "text/plain": [
       "1.8260032507756103"
      ]
     },
     "execution_count": 59,
     "metadata": {},
     "output_type": "execute_result"
    }
   ],
   "source": [
    "mean_absolute_error(y7_test, predicted_no22)"
   ]
  },
  {
   "cell_type": "code",
   "execution_count": 60,
   "id": "8ac19a09",
   "metadata": {},
   "outputs": [
    {
     "data": {
      "text/plain": [
       "0.23482263904218015"
      ]
     },
     "execution_count": 60,
     "metadata": {},
     "output_type": "execute_result"
    }
   ],
   "source": [
    "mean_absolute_percentage_error(y7_test, predicted_no22)"
   ]
  },
  {
   "cell_type": "code",
   "execution_count": 61,
   "id": "080e3e8f",
   "metadata": {},
   "outputs": [
    {
     "data": {
      "text/plain": [
       "6.244300211152868"
      ]
     },
     "execution_count": 61,
     "metadata": {},
     "output_type": "execute_result"
    }
   ],
   "source": [
    "param_grid = { \n",
    "    'n_estimators': [50,100,200],\n",
    "    'random_state': [7,15,42],\n",
    "    'oob_score':['True','False'],\n",
    "    'criterion':['squared_error', 'absolute_error'] \n",
    "    \n",
    "}\n",
    "\n",
    "\n",
    "CV_rfc = GridSearchCV(estimator=p_model11, param_grid=param_grid, cv= 10)\n",
    "CV_rfc.fit(X7_train, y7_train)\n",
    "\n",
    "predicted_no33 = CV_rfc.predict(X7_test)\n",
    "\n",
    "mean_squared_error(y7_test, predicted_no33)"
   ]
  },
  {
   "cell_type": "code",
   "execution_count": 63,
   "id": "2e41d0ef",
   "metadata": {},
   "outputs": [
    {
     "data": {
      "text/plain": [
       "1.8337115141124405"
      ]
     },
     "execution_count": 63,
     "metadata": {},
     "output_type": "execute_result"
    }
   ],
   "source": [
    "mean_absolute_error(y7_test, predicted_no33)"
   ]
  },
  {
   "cell_type": "code",
   "execution_count": 64,
   "id": "5d957d8d",
   "metadata": {},
   "outputs": [
    {
     "data": {
      "text/plain": [
       "{'criterion': 'absolute_error',\n",
       " 'n_estimators': 200,\n",
       " 'oob_score': 'True',\n",
       " 'random_state': 7}"
      ]
     },
     "execution_count": 64,
     "metadata": {},
     "output_type": "execute_result"
    }
   ],
   "source": [
    "CV_rfc.best_params_"
   ]
  },
  {
   "cell_type": "code",
   "execution_count": 65,
   "id": "a639c9f3",
   "metadata": {},
   "outputs": [],
   "source": [
    "train8,test8 = train_test_split(df8p, test_size=0.2, random_state=42)"
   ]
  },
  {
   "cell_type": "code",
   "execution_count": 66,
   "id": "6604e93b",
   "metadata": {},
   "outputs": [],
   "source": [
    "X8_train = train8.drop(['avg(NO2 Mean)'], axis=1)\n",
    "#X88_train = train8.drop(['avg(NO2 Mean)','avg(O3 Mean)','avg(SO2 Mean)'], axis=1)\n",
    "y8_train = train8['avg(NO2 Mean)']\n",
    "X8_test = test8.drop(['avg(NO2 Mean)'], axis=1)\n",
    "#X88_test = test8.drop(['avg(NO2 Mean)','avg(O3 Mean)','avg(SO2 Mean)'], axis=1)\n",
    "y8_test = test8['avg(NO2 Mean)']"
   ]
  },
  {
   "cell_type": "code",
   "execution_count": 67,
   "id": "194644ba",
   "metadata": {},
   "outputs": [
    {
     "data": {
      "text/html": [
       "<div>\n",
       "<style scoped>\n",
       "    .dataframe tbody tr th:only-of-type {\n",
       "        vertical-align: middle;\n",
       "    }\n",
       "\n",
       "    .dataframe tbody tr th {\n",
       "        vertical-align: top;\n",
       "    }\n",
       "\n",
       "    .dataframe thead th {\n",
       "        text-align: right;\n",
       "    }\n",
       "</style>\n",
       "<table border=\"1\" class=\"dataframe\">\n",
       "  <thead>\n",
       "    <tr style=\"text-align: right;\">\n",
       "      <th></th>\n",
       "      <th>avg(CO Mean)</th>\n",
       "      <th>avg(O3 Mean)</th>\n",
       "      <th>avg(SO2 Mean)</th>\n",
       "      <th>population_density</th>\n",
       "      <th>num_factory</th>\n",
       "      <th>Autos</th>\n",
       "      <th>Trucks</th>\n",
       "      <th>Total Vehicles</th>\n",
       "    </tr>\n",
       "  </thead>\n",
       "  <tbody>\n",
       "    <tr>\n",
       "      <th>67</th>\n",
       "      <td>0.252550</td>\n",
       "      <td>0.032934</td>\n",
       "      <td>0.772456</td>\n",
       "      <td>103.312778</td>\n",
       "      <td>8995.0</td>\n",
       "      <td>1096412.0</td>\n",
       "      <td>332313.0</td>\n",
       "      <td>1629237.0</td>\n",
       "    </tr>\n",
       "    <tr>\n",
       "      <th>12</th>\n",
       "      <td>0.810261</td>\n",
       "      <td>0.029360</td>\n",
       "      <td>0.555606</td>\n",
       "      <td>37.464079</td>\n",
       "      <td>116.0</td>\n",
       "      <td>88158.0</td>\n",
       "      <td>38116.0</td>\n",
       "      <td>147682.0</td>\n",
       "    </tr>\n",
       "    <tr>\n",
       "      <th>24</th>\n",
       "      <td>0.609601</td>\n",
       "      <td>0.027242</td>\n",
       "      <td>2.468413</td>\n",
       "      <td>676.371434</td>\n",
       "      <td>5846.0</td>\n",
       "      <td>1911703.0</td>\n",
       "      <td>483895.0</td>\n",
       "      <td>2653730.0</td>\n",
       "    </tr>\n",
       "    <tr>\n",
       "      <th>45</th>\n",
       "      <td>0.413190</td>\n",
       "      <td>0.022291</td>\n",
       "      <td>0.846364</td>\n",
       "      <td>459.266692</td>\n",
       "      <td>512.0</td>\n",
       "      <td>249543.0</td>\n",
       "      <td>68605.0</td>\n",
       "      <td>365427.0</td>\n",
       "    </tr>\n",
       "    <tr>\n",
       "      <th>107</th>\n",
       "      <td>0.266088</td>\n",
       "      <td>0.031561</td>\n",
       "      <td>0.131645</td>\n",
       "      <td>3330.034497</td>\n",
       "      <td>23310.0</td>\n",
       "      <td>2248999.0</td>\n",
       "      <td>400421.0</td>\n",
       "      <td>2831850.0</td>\n",
       "    </tr>\n",
       "    <tr>\n",
       "      <th>...</th>\n",
       "      <td>...</td>\n",
       "      <td>...</td>\n",
       "      <td>...</td>\n",
       "      <td>...</td>\n",
       "      <td>...</td>\n",
       "      <td>...</td>\n",
       "      <td>...</td>\n",
       "      <td>...</td>\n",
       "    </tr>\n",
       "    <tr>\n",
       "      <th>106</th>\n",
       "      <td>0.382242</td>\n",
       "      <td>0.025000</td>\n",
       "      <td>0.755633</td>\n",
       "      <td>1400.223142</td>\n",
       "      <td>2715.0</td>\n",
       "      <td>765068.0</td>\n",
       "      <td>144712.0</td>\n",
       "      <td>999733.0</td>\n",
       "    </tr>\n",
       "    <tr>\n",
       "      <th>14</th>\n",
       "      <td>0.685968</td>\n",
       "      <td>0.027398</td>\n",
       "      <td>2.504902</td>\n",
       "      <td>667.735179</td>\n",
       "      <td>6232.0</td>\n",
       "      <td>1899752.0</td>\n",
       "      <td>488794.0</td>\n",
       "      <td>2643283.0</td>\n",
       "    </tr>\n",
       "    <tr>\n",
       "      <th>92</th>\n",
       "      <td>0.406299</td>\n",
       "      <td>0.029338</td>\n",
       "      <td>0.243825</td>\n",
       "      <td>317.978562</td>\n",
       "      <td>7460.0</td>\n",
       "      <td>1279094.0</td>\n",
       "      <td>351311.0</td>\n",
       "      <td>1836206.0</td>\n",
       "    </tr>\n",
       "    <tr>\n",
       "      <th>51</th>\n",
       "      <td>0.413869</td>\n",
       "      <td>0.022778</td>\n",
       "      <td>0.534972</td>\n",
       "      <td>2080.768130</td>\n",
       "      <td>25548.0</td>\n",
       "      <td>5805760.0</td>\n",
       "      <td>1086927.0</td>\n",
       "      <td>7360573.0</td>\n",
       "    </tr>\n",
       "    <tr>\n",
       "      <th>102</th>\n",
       "      <td>0.526987</td>\n",
       "      <td>0.019678</td>\n",
       "      <td>0.751527</td>\n",
       "      <td>1988.099993</td>\n",
       "      <td>9190.0</td>\n",
       "      <td>1082464.0</td>\n",
       "      <td>178753.0</td>\n",
       "      <td>1356342.0</td>\n",
       "    </tr>\n",
       "  </tbody>\n",
       "</table>\n",
       "<p>99 rows × 8 columns</p>\n",
       "</div>"
      ],
      "text/plain": [
       "     avg(CO Mean)  avg(O3 Mean)  avg(SO2 Mean)  population_density  \\\n",
       "67       0.252550      0.032934       0.772456          103.312778   \n",
       "12       0.810261      0.029360       0.555606           37.464079   \n",
       "24       0.609601      0.027242       2.468413          676.371434   \n",
       "45       0.413190      0.022291       0.846364          459.266692   \n",
       "107      0.266088      0.031561       0.131645         3330.034497   \n",
       "..            ...           ...            ...                 ...   \n",
       "106      0.382242      0.025000       0.755633         1400.223142   \n",
       "14       0.685968      0.027398       2.504902          667.735179   \n",
       "92       0.406299      0.029338       0.243825          317.978562   \n",
       "51       0.413869      0.022778       0.534972         2080.768130   \n",
       "102      0.526987      0.019678       0.751527         1988.099993   \n",
       "\n",
       "     num_factory      Autos     Trucks  Total Vehicles  \n",
       "67        8995.0  1096412.0   332313.0       1629237.0  \n",
       "12         116.0    88158.0    38116.0        147682.0  \n",
       "24        5846.0  1911703.0   483895.0       2653730.0  \n",
       "45         512.0   249543.0    68605.0        365427.0  \n",
       "107      23310.0  2248999.0   400421.0       2831850.0  \n",
       "..           ...        ...        ...             ...  \n",
       "106       2715.0   765068.0   144712.0        999733.0  \n",
       "14        6232.0  1899752.0   488794.0       2643283.0  \n",
       "92        7460.0  1279094.0   351311.0       1836206.0  \n",
       "51       25548.0  5805760.0  1086927.0       7360573.0  \n",
       "102       9190.0  1082464.0   178753.0       1356342.0  \n",
       "\n",
       "[99 rows x 8 columns]"
      ]
     },
     "execution_count": 67,
     "metadata": {},
     "output_type": "execute_result"
    }
   ],
   "source": [
    "X8_train"
   ]
  },
  {
   "cell_type": "code",
   "execution_count": 68,
   "id": "c2d5881f",
   "metadata": {},
   "outputs": [
    {
     "data": {
      "text/plain": [
       "67     17.870176\n",
       "12     14.148143\n",
       "24     17.324475\n",
       "45     10.211051\n",
       "107    11.617735\n",
       "         ...    \n",
       "106     7.198159\n",
       "14     19.312337\n",
       "92     15.181102\n",
       "51     19.956466\n",
       "102    13.987552\n",
       "Name: avg(NO2 Mean), Length: 99, dtype: float64"
      ]
     },
     "execution_count": 68,
     "metadata": {},
     "output_type": "execute_result"
    }
   ],
   "source": [
    "y8_train"
   ]
  },
  {
   "cell_type": "code",
   "execution_count": 69,
   "id": "a58067f5",
   "metadata": {},
   "outputs": [
    {
     "data": {
      "text/plain": [
       "8.284689383518991"
      ]
     },
     "execution_count": 69,
     "metadata": {},
     "output_type": "execute_result"
    }
   ],
   "source": [
    "p_model2 = LinearRegression()\n",
    "p_model2.fit(X8_train, y8_train)\n",
    "\n",
    "predicted_no22 = p_model2.predict(X8_test)\n",
    "\n",
    "mean_squared_error(y8_test, predicted_no22)"
   ]
  },
  {
   "cell_type": "code",
   "execution_count": 70,
   "id": "73cc6f79",
   "metadata": {},
   "outputs": [
    {
     "data": {
      "text/plain": [
       "2.347262469146624"
      ]
     },
     "execution_count": 70,
     "metadata": {},
     "output_type": "execute_result"
    }
   ],
   "source": [
    "mean_absolute_error(y8_test, predicted_no22)"
   ]
  },
  {
   "cell_type": "code",
   "execution_count": 71,
   "id": "7a9b8d66",
   "metadata": {},
   "outputs": [
    {
     "data": {
      "text/plain": [
       "0.4107180707277525"
      ]
     },
     "execution_count": 71,
     "metadata": {},
     "output_type": "execute_result"
    }
   ],
   "source": [
    "mean_absolute_percentage_error(y8_test, predicted_no22)"
   ]
  },
  {
   "cell_type": "code",
   "execution_count": 72,
   "id": "df61bb8e",
   "metadata": {},
   "outputs": [
    {
     "data": {
      "text/plain": [
       "0.726482192118924"
      ]
     },
     "execution_count": 72,
     "metadata": {},
     "output_type": "execute_result"
    }
   ],
   "source": [
    "p_model2.score(X8_test,y8_test)"
   ]
  },
  {
   "cell_type": "code",
   "execution_count": 73,
   "id": "3ef69347",
   "metadata": {},
   "outputs": [
    {
     "data": {
      "text/plain": [
       "2.991498831787429"
      ]
     },
     "execution_count": 73,
     "metadata": {},
     "output_type": "execute_result"
    }
   ],
   "source": [
    "p_model1 = DecisionTreeRegressor(max_depth=None,random_state=7)\n",
    "p_model1.fit(X8_train, y8_train)\n",
    "\n",
    "predicted_no2 = p_model1.predict(X8_test)\n",
    "\n",
    "mean_squared_error(y8_test, predicted_no2)"
   ]
  },
  {
   "cell_type": "code",
   "execution_count": 74,
   "id": "70914b85",
   "metadata": {},
   "outputs": [
    {
     "data": {
      "text/plain": [
       "1.2956858773328905"
      ]
     },
     "execution_count": 74,
     "metadata": {},
     "output_type": "execute_result"
    }
   ],
   "source": [
    "mean_absolute_error(y8_test, predicted_no2)"
   ]
  },
  {
   "cell_type": "code",
   "execution_count": 75,
   "id": "f6d709cb",
   "metadata": {},
   "outputs": [
    {
     "data": {
      "text/plain": [
       "0.16365646573027717"
      ]
     },
     "execution_count": 75,
     "metadata": {},
     "output_type": "execute_result"
    }
   ],
   "source": [
    "mean_absolute_percentage_error(y8_test, predicted_no2)"
   ]
  },
  {
   "cell_type": "code",
   "execution_count": 76,
   "id": "8272b9e5",
   "metadata": {},
   "outputs": [
    {
     "data": {
      "text/plain": [
       "3.0284058867901598"
      ]
     },
     "execution_count": 76,
     "metadata": {},
     "output_type": "execute_result"
    }
   ],
   "source": [
    "p_model11 = RandomForestRegressor(n_estimators=100,\n",
    "                                  random_state=75)\n",
    "\n",
    "p_model11.fit(X8_train, y8_train)\n",
    "\n",
    "predicted_no22 = p_model11.predict(X8_test)\n",
    "\n",
    "mean_squared_error(y8_test, predicted_no22)"
   ]
  },
  {
   "cell_type": "code",
   "execution_count": 77,
   "id": "7ee8c4ed",
   "metadata": {},
   "outputs": [
    {
     "data": {
      "text/plain": [
       "1.243704678155003"
      ]
     },
     "execution_count": 77,
     "metadata": {},
     "output_type": "execute_result"
    }
   ],
   "source": [
    "mean_absolute_error(y8_test, predicted_no22)"
   ]
  },
  {
   "cell_type": "code",
   "execution_count": 78,
   "id": "df31840b",
   "metadata": {},
   "outputs": [
    {
     "data": {
      "text/plain": [
       "0.2673998733489899"
      ]
     },
     "execution_count": 78,
     "metadata": {},
     "output_type": "execute_result"
    }
   ],
   "source": [
    "mean_absolute_percentage_error(y8_test, predicted_no22)"
   ]
  },
  {
   "cell_type": "code",
   "execution_count": 89,
   "id": "f0a83dba",
   "metadata": {},
   "outputs": [
    {
     "data": {
      "text/plain": [
       "0.8"
      ]
     },
     "execution_count": 89,
     "metadata": {},
     "output_type": "execute_result"
    }
   ],
   "source": [
    "len(y8_test[y8_test>8.5])/len(y8_test)"
   ]
  },
  {
   "cell_type": "code",
   "execution_count": 100,
   "id": "733fa2f2",
   "metadata": {},
   "outputs": [
    {
     "data": {
      "text/plain": [
       "0.8382978723404255"
      ]
     },
     "execution_count": 100,
     "metadata": {},
     "output_type": "execute_result"
    }
   ],
   "source": [
    "len(df6p[(df6p['State']=='California')&(df6p['avg(NO2 Mean)']>6)])/len(df6p[df6p['State']=='California'])"
   ]
  },
  {
   "cell_type": "code",
   "execution_count": 151,
   "id": "28cbca32",
   "metadata": {},
   "outputs": [
    {
     "data": {
      "text/plain": [
       "3.2141117619159165"
      ]
     },
     "execution_count": 151,
     "metadata": {},
     "output_type": "execute_result"
    }
   ],
   "source": [
    "param_grid = { \n",
    "    'n_estimators': [50,100,200],\n",
    "    'random_state': [7,15,42],\n",
    "    'oob_score':['True','False'],\n",
    "    'criterion':['absolute_error'] \n",
    "    \n",
    "}\n",
    "\n",
    "\n",
    "CV_rfc = GridSearchCV(estimator=p_model11, param_grid=param_grid, cv= 10)\n",
    "CV_rfc.fit(X8_train, y8_train)\n",
    "\n",
    "predicted_no33 = CV_rfc.predict(X8_test)\n",
    "\n",
    "mean_squared_error(y8_test, predicted_no33)"
   ]
  },
  {
   "cell_type": "code",
   "execution_count": 152,
   "id": "fb88bfa1",
   "metadata": {},
   "outputs": [
    {
     "data": {
      "text/plain": [
       "1.3296281860822128"
      ]
     },
     "execution_count": 152,
     "metadata": {},
     "output_type": "execute_result"
    }
   ],
   "source": [
    "mean_absolute_error(y8_test, predicted_no33)"
   ]
  },
  {
   "cell_type": "code",
   "execution_count": 153,
   "id": "14c2d2bf",
   "metadata": {},
   "outputs": [
    {
     "data": {
      "text/plain": [
       "0.27697106835340496"
      ]
     },
     "execution_count": 153,
     "metadata": {},
     "output_type": "execute_result"
    }
   ],
   "source": [
    "mean_absolute_percentage_error(y8_test, predicted_no22)"
   ]
  }
 ],
 "metadata": {
  "kernelspec": {
   "display_name": "Python [conda env:root] *",
   "language": "python",
   "name": "conda-root-py"
  },
  "language_info": {
   "codemirror_mode": {
    "name": "ipython",
    "version": 3
   },
   "file_extension": ".py",
   "mimetype": "text/x-python",
   "name": "python",
   "nbconvert_exporter": "python",
   "pygments_lexer": "ipython3",
   "version": "3.9.12"
  }
 },
 "nbformat": 4,
 "nbformat_minor": 5
}
