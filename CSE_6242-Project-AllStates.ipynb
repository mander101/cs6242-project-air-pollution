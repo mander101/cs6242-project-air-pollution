{
  "metadata": {
    "kernelspec": {
      "name": "python",
      "display_name": "Python (Pyodide)",
      "language": "python"
    },
    "language_info": {
      "codemirror_mode": {
        "name": "ipython",
        "version": 3
      },
      "file_extension": ".py",
      "mimetype": "text/x-python",
      "name": "python",
      "nbconvert_exporter": "python",
      "pygments_lexer": "ipython3",
      "version": "3.9.12"
    }
  },
  "nbformat_minor": 5,
  "nbformat": 4,
  "cells": [
    {
      "cell_type": "code",
      "source": "import pyspark\nfrom pyspark.sql import SQLContext\nfrom pyspark.sql.functions import year,month,hour, when, col, date_format, to_timestamp, round, coalesce\nfrom pyspark.sql import SparkSession\nimport pandas as pd",
      "metadata": {
        "trusted": true
      },
      "execution_count": null,
      "outputs": [],
      "id": "8f18e412"
    },
    {
      "cell_type": "code",
      "source": "#sc = pyspark.SparkSession('local', 'test')\nsc = pyspark.SparkContext(appName=\"HW3-Q1\")\nsqlContext = SQLContext(sc)",
      "metadata": {},
      "execution_count": 2,
      "outputs": [
        {
          "name": "stderr",
          "output_type": "stream",
          "text": "C:\\Users\\baris\\anaconda3\\lib\\site-packages\\pyspark\\sql\\context.py:112: FutureWarning: Deprecated in 3.0.0. Use SparkSession.builder.getOrCreate() instead.\n\n  warnings.warn(\n"
        }
      ],
      "id": "b4c1ede7"
    },
    {
      "cell_type": "code",
      "source": "df = sqlContext.read.option(\"header\",True).option(\"inferSchema\",True) \\\n     .csv(\"pollution_us_2000_2016.csv\")",
      "metadata": {},
      "execution_count": 3,
      "outputs": [],
      "id": "5cc66600"
    },
    {
      "cell_type": "code",
      "source": "df=df.withColumn(\"year\",year(\"Date Local\")).withColumn(\"month\",month(\"Date Local\"))  ",
      "metadata": {},
      "execution_count": 4,
      "outputs": [],
      "id": "d141f527"
    },
    {
      "cell_type": "code",
      "source": "dfmonth=df.select(\"State\",\"County\",\"year\",\"month\",\"NO2 Mean\")\\\n.groupBy(\"State\",\"County\",\"year\",\"month\").avg(\"NO2 Mean\")\n",
      "metadata": {},
      "execution_count": 5,
      "outputs": [],
      "id": "c8f82a00"
    },
    {
      "cell_type": "code",
      "source": "df1=df.select(\"State\",\"County\",\"year\",\"NO2 Mean\")\\\n.groupBy(\"State\",\"County\",\"year\").avg(\"NO2 Mean\")",
      "metadata": {},
      "execution_count": 6,
      "outputs": [],
      "id": "5aa8d3e2"
    },
    {
      "cell_type": "code",
      "source": "df1p=df1.toPandas()\n#df1p.to_csv('df1.csv')",
      "metadata": {},
      "execution_count": 9,
      "outputs": [],
      "id": "d1ca386b"
    },
    {
      "cell_type": "code",
      "source": "df2p=pd.read_csv(\"C:\\\\Users\\\\baris\\\\OneDrive\\\\desktop\\\\CSE 6242 Project\\death_data.csv\")",
      "metadata": {},
      "execution_count": 10,
      "outputs": [],
      "id": "91db2f21"
    },
    {
      "cell_type": "code",
      "source": "dfcal_ill=df1p[(df1p['State']==\"California\")|(df1p['State']==\"Illinois\")].sort_values(by=['year'])",
      "metadata": {},
      "execution_count": 14,
      "outputs": [],
      "id": "2fbc5723"
    },
    {
      "cell_type": "code",
      "source": "df2p['State']=df2p['State'].map({'AK':'Alaska','AL':'Alabama','AR':'Arkansas','AZ':'Arizona','CA': 'California','CO':'Colorado',\\\n                                 'CT':'Connecticut','DE':'Delaware','FL':'Florida','GA':'Georgia','HI':'Hawaii','IA':'Iowa',\\\n                                 'ID':'Idaho','IL': 'Illinois','IN':'Indiana','KS':'Kansas','KY':'Kentucky','LA':'Louisiana' \\\n                                'MA':'Massachusetts','MD':'Maryland','ME':'Maine','MI':'Michigan','MN':'Minnesota','MO':'Missouri' \\\n                                'NC':'North Carolina','ND':'North Dakota','NH':'New Hampshire','NJ':'New Jersey','NM':'New Mexico' \\\n                                'NV':'Nevada','NY':'New York','OH':'Ohio','OK':'Oklahoma','OR':'Oregon','PA':'Pennsylvania' \\\n                                'RI':'Rhode Island','SC':'South Carolina','SD':'South Dakota','TN':'Tennessee','TX':'Texas' \\\n                                'UT':'Utah','VA':'Virginia','WA':'Washington','WI':'Wisconsin','WY':'Wyoming'})",
      "metadata": {},
      "execution_count": 15,
      "outputs": [],
      "id": "84014545"
    },
    {
      "cell_type": "code",
      "source": "df3p=pd.merge(dfcal_ill,df2p,how=\"inner\", left_on=['State','County','year'], right_on=['State','County_Name','Year'])",
      "metadata": {},
      "execution_count": 16,
      "outputs": [],
      "id": "43f1af19"
    },
    {
      "cell_type": "code",
      "source": "df3p=df3p.T.drop_duplicates().T",
      "metadata": {},
      "execution_count": 17,
      "outputs": [],
      "id": "d0bd6364"
    },
    {
      "cell_type": "code",
      "source": "def nit(df,year):\n    \n    dfyear=df3p[(df3p['year']==year)]  \n    df_five_years=df3p[(df3p['year']>year-6)&(df3p['year']<year)]\n    \n    dfno2=df_five_years.groupby([\"State\",\"County\"]).agg(NO2_fiveyears=pd.NamedAgg(column=\"avg(NO2 Mean)\", aggfunc=\"mean\")).reset_index()\n    \n    df_final=pd.merge(dfyear, dfno2, how=\"inner\", on=['State','County'])\n    \n    return df_final",
      "metadata": {},
      "execution_count": 69,
      "outputs": [],
      "id": "cb009cc2"
    },
    {
      "cell_type": "code",
      "source": "#nit(df3p,2015)",
      "metadata": {},
      "execution_count": 90,
      "outputs": [],
      "id": "d7162da5"
    },
    {
      "cell_type": "code",
      "source": "l=[]\nfor i in range(2006,2017):\n    l.append(nit(df3p,i))",
      "metadata": {},
      "execution_count": 85,
      "outputs": [],
      "id": "8ca7e2c7"
    },
    {
      "cell_type": "code",
      "source": "df4p=pd.concat(l,join=\"inner\")",
      "metadata": {},
      "execution_count": 88,
      "outputs": [],
      "id": "94e3e1fe"
    },
    {
      "cell_type": "code",
      "source": "df4p.to_csv('df2.csv')",
      "metadata": {},
      "execution_count": 89,
      "outputs": [],
      "id": "dc35216e"
    }
  ]
}