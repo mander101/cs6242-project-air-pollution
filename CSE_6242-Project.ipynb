{
 "cells": [
  {
   "cell_type": "code",
   "execution_count": 40,
   "id": "8f18e412",
   "metadata": {},
   "outputs": [],
   "source": [
    "import pyspark\n",
    "from pyspark.sql import SQLContext\n",
    "from pyspark.sql.functions import year,month,hour, when, col, date_format, to_timestamp, round, coalesce\n",
    "from pyspark.sql import SparkSession\n",
    "import pandas as pd"
   ]
  },
  {
   "cell_type": "code",
   "execution_count": 2,
   "id": "b4c1ede7",
   "metadata": {},
   "outputs": [
    {
     "name": "stderr",
     "output_type": "stream",
     "text": [
      "C:\\Users\\baris\\anaconda3\\lib\\site-packages\\pyspark\\sql\\context.py:112: FutureWarning: Deprecated in 3.0.0. Use SparkSession.builder.getOrCreate() instead.\n",
      "  warnings.warn(\n"
     ]
    }
   ],
   "source": [
    "#sc = pyspark.SparkSession('local', 'test')\n",
    "sc = pyspark.SparkContext(appName=\"HW3-Q1\")\n",
    "sqlContext = SQLContext(sc)"
   ]
  },
  {
   "cell_type": "code",
   "execution_count": 3,
   "id": "5cc66600",
   "metadata": {},
   "outputs": [],
   "source": [
    "df = sqlContext.read.option(\"header\",True).option(\"inferSchema\",True) \\\n",
    "     .csv(\"pollution_us_2000_2016.csv\")"
   ]
  },
  {
   "cell_type": "code",
   "execution_count": 4,
   "id": "d141f527",
   "metadata": {},
   "outputs": [],
   "source": [
    "df=df.withColumn(\"year\",year(\"Date Local\")).withColumn(\"month\",month(\"Date Local\"))  "
   ]
  },
  {
   "cell_type": "code",
   "execution_count": 18,
   "id": "c8f82a00",
   "metadata": {},
   "outputs": [],
   "source": [
    "df1=df.select(\"State\",\"County\",\"year\",\"month\",\"NO2 Mean\")\\\n",
    ".groupBy(\"State\",\"County\",\"year\",\"month\").avg(\"NO2 Mean\")\n"
   ]
  },
  {
   "cell_type": "code",
   "execution_count": 26,
   "id": "1f773585",
   "metadata": {},
   "outputs": [
    {
     "name": "stdout",
     "output_type": "stream",
     "text": [
      "+--------------+-------------+----+-----+------------------+\n",
      "|         State|       County|year|month|     avg(NO2 Mean)|\n",
      "+--------------+-------------+----+-----+------------------+\n",
      "|       Florida|       Orange|2000|    2|17.773742884615384|\n",
      "|North Carolina|      Forsyth|2001|    9|        13.6250001|\n",
      "|  Pennsylvania|   Montgomery|2001|    7|12.834852774193552|\n",
      "|    California|San Francisco|2002|    1|26.767180903225842|\n",
      "|       Arizona|         Pima|2000|    7|10.259408580645168|\n",
      "|    California|  Los Angeles|2000|    8|30.625175241935455|\n",
      "|         Texas|       Harris|2000|    8|17.134991533333338|\n",
      "|    California|      Ventura|2001|    4|        10.2380764|\n",
      "|       Florida|       Orange|2001|    2|13.882722642857145|\n",
      "|      New York|        Bronx|2001|    5|29.157093709677426|\n",
      "|  Pennsylvania|  Northampton|2001|    3|          9.291667|\n",
      "|    California|      Ventura|2000|    1| 18.13598116129034|\n",
      "|       Indiana|       Marion|2000|    4| 19.66773083333334|\n",
      "|      Michigan|        Wayne|2000|    4|23.901288315789476|\n",
      "|  Pennsylvania|       Beaver|2000|    4|15.995431833333331|\n",
      "|  Pennsylvania|        Blair|2000|    6|11.514251233333333|\n",
      "|  Pennsylvania|   Lackawanna|2000|    6|12.972350413793102|\n",
      "|  Pennsylvania|         York|2000|    8|13.551705161290325|\n",
      "|    California|       Orange|2001|    1|34.088359096774184|\n",
      "|       Arizona|         Pima|2002|    2|  19.5855742857143|\n",
      "+--------------+-------------+----+-----+------------------+\n",
      "only showing top 20 rows\n",
      "\n"
     ]
    }
   ],
   "source": [
    "df1.show()"
   ]
  },
  {
   "cell_type": "code",
   "execution_count": 41,
   "id": "a937b8a0",
   "metadata": {},
   "outputs": [],
   "source": [
    "df1.toPandas().to_csv('pollution_data.csv')"
   ]
  }
 ],
 "metadata": {
  "kernelspec": {
   "display_name": "Python [conda env:root] *",
   "language": "python",
   "name": "conda-root-py"
  },
  "language_info": {
   "codemirror_mode": {
    "name": "ipython",
    "version": 3
   },
   "file_extension": ".py",
   "mimetype": "text/x-python",
   "name": "python",
   "nbconvert_exporter": "python",
   "pygments_lexer": "ipython3",
   "version": "3.9.12"
  }
 },
 "nbformat": 4,
 "nbformat_minor": 5
}
