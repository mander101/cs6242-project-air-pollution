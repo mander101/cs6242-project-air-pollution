{
 "cells": [
  {
   "cell_type": "code",
   "execution_count": 1,
   "id": "8f18e412",
   "metadata": {},
   "outputs": [],
   "source": [
    "import pyspark\n",
    "from pyspark.sql import SQLContext\n",
    "from pyspark.sql.functions import year,month,hour, when, col, date_format, to_timestamp, round, coalesce\n",
    "from pyspark.sql import SparkSession\n",
    "import pandas as pd"
   ]
  },
  {
   "cell_type": "code",
   "execution_count": 2,
   "id": "b4c1ede7",
   "metadata": {},
   "outputs": [
    {
     "name": "stderr",
     "output_type": "stream",
     "text": [
      "C:\\Users\\baris\\anaconda3\\lib\\site-packages\\pyspark\\sql\\context.py:112: FutureWarning: Deprecated in 3.0.0. Use SparkSession.builder.getOrCreate() instead.\n",
      "  warnings.warn(\n"
     ]
    }
   ],
   "source": [
    "#sc = pyspark.SparkSession('local', 'test')\n",
    "sc = pyspark.SparkContext(appName=\"HW3-Q1\")\n",
    "sqlContext = SQLContext(sc)"
   ]
  },
  {
   "cell_type": "code",
   "execution_count": 3,
   "id": "5cc66600",
   "metadata": {},
   "outputs": [],
   "source": [
    "df = sqlContext.read.option(\"header\",True).option(\"inferSchema\",True) \\\n",
    "     .csv(\"pollution_us_2000_2016.csv\")"
   ]
  },
  {
   "cell_type": "code",
   "execution_count": 4,
   "id": "d141f527",
   "metadata": {},
   "outputs": [],
   "source": [
    "df=df.withColumn(\"year\",year(\"Date Local\")).withColumn(\"month\",month(\"Date Local\"))  "
   ]
  },
  {
   "cell_type": "code",
   "execution_count": 5,
   "id": "c8f82a00",
   "metadata": {},
   "outputs": [],
   "source": [
    "dfmonth=df.select(\"State\",\"County\",\"year\",\"month\",\"NO2 Mean\")\\\n",
    ".groupBy(\"State\",\"County\",\"year\",\"month\").avg(\"NO2 Mean\")\n"
   ]
  },
  {
   "cell_type": "code",
   "execution_count": 6,
   "id": "5aa8d3e2",
   "metadata": {},
   "outputs": [],
   "source": [
    "df1=df.select(\"State\",\"County\",\"year\",\"NO2 Mean\")\\\n",
    ".groupBy(\"State\",\"County\",\"year\").avg(\"NO2 Mean\")"
   ]
  },
  {
   "cell_type": "code",
   "execution_count": 9,
   "id": "d1ca386b",
   "metadata": {},
   "outputs": [],
   "source": [
    "df1p=df1.toPandas()\n",
    "#df1p.to_csv('df1.csv')"
   ]
  },
  {
   "cell_type": "code",
   "execution_count": 10,
   "id": "91db2f21",
   "metadata": {},
   "outputs": [],
   "source": [
    "df2p=pd.read_csv(\"C:\\\\Users\\\\baris\\\\OneDrive\\\\desktop\\\\CSE 6242 Project\\death_data.csv\")"
   ]
  },
  {
   "cell_type": "code",
   "execution_count": 14,
   "id": "2fbc5723",
   "metadata": {},
   "outputs": [],
   "source": [
    "dfcal_ill=df1p[(df1p['State']==\"California\")|(df1p['State']==\"Illinois\")].sort_values(by=['year'])"
   ]
  },
  {
   "cell_type": "code",
   "execution_count": 15,
   "id": "84014545",
   "metadata": {},
   "outputs": [],
   "source": [
    "df2p['State']=df2p['State'].map({'CA': 'California', 'IL': 'Illinois'})"
   ]
  },
  {
   "cell_type": "code",
   "execution_count": 16,
   "id": "43f1af19",
   "metadata": {},
   "outputs": [],
   "source": [
    "df3p=pd.merge(dfcal_ill,df2p,how=\"inner\", left_on=['State','County','year'], right_on=['State','County_Name','Year'])"
   ]
  },
  {
   "cell_type": "code",
   "execution_count": 17,
   "id": "d0bd6364",
   "metadata": {},
   "outputs": [],
   "source": [
    "df3p=df3p.T.drop_duplicates().T"
   ]
  },
  {
   "cell_type": "code",
   "execution_count": 69,
   "id": "cb009cc2",
   "metadata": {},
   "outputs": [],
   "source": [
    "def nit(df,year):\n",
    "    \n",
    "    dfyear=df3p[(df3p['year']==year)]  \n",
    "    df_five_years=df3p[(df3p['year']>year-6)&(df3p['year']<year)]\n",
    "    \n",
    "    dfno2=df_five_years.groupby([\"State\",\"County\"]).agg(NO2_fiveyears=pd.NamedAgg(column=\"avg(NO2 Mean)\", aggfunc=\"mean\")).reset_index()\n",
    "    \n",
    "    df_final=pd.merge(dfyear, dfno2, how=\"inner\", on=['State','County'])\n",
    "    \n",
    "    return df_final"
   ]
  },
  {
   "cell_type": "code",
   "execution_count": 90,
   "id": "d7162da5",
   "metadata": {},
   "outputs": [],
   "source": [
    "#nit(df3p,2015)"
   ]
  },
  {
   "cell_type": "code",
   "execution_count": 85,
   "id": "8ca7e2c7",
   "metadata": {},
   "outputs": [],
   "source": [
    "l=[]\n",
    "for i in range(2006,2017):\n",
    "    l.append(nit(df3p,i))"
   ]
  },
  {
   "cell_type": "code",
   "execution_count": 88,
   "id": "94e3e1fe",
   "metadata": {},
   "outputs": [],
   "source": [
    "df4p=pd.concat(l,join=\"inner\")"
   ]
  },
  {
   "cell_type": "code",
   "execution_count": 89,
   "id": "dc35216e",
   "metadata": {},
   "outputs": [],
   "source": [
    "df4p.to_csv('df2.csv')"
   ]
  }
 ],
 "metadata": {
  "kernelspec": {
   "display_name": "Python [conda env:root] *",
   "language": "python",
   "name": "conda-root-py"
  },
  "language_info": {
   "codemirror_mode": {
    "name": "ipython",
    "version": 3
   },
   "file_extension": ".py",
   "mimetype": "text/x-python",
   "name": "python",
   "nbconvert_exporter": "python",
   "pygments_lexer": "ipython3",
   "version": "3.9.12"
  }
 },
 "nbformat": 4,
 "nbformat_minor": 5
}
